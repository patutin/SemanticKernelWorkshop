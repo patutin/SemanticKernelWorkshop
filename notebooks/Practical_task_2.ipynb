{
 "cells": [
  {
   "cell_type": "code",
   "execution_count": null,
   "metadata": {
    "dotnet_interactive": {
     "language": "csharp"
    },
    "polyglot_notebook": {
     "kernelName": "csharp"
    },
    "vscode": {
     "languageId": "polyglot-notebook"
    }
   },
   "outputs": [],
   "source": [
    "#!import config/Settings.cs"
   ]
  },
  {
   "cell_type": "code",
   "execution_count": null,
   "metadata": {
    "dotnet_interactive": {
     "language": "csharp"
    },
    "polyglot_notebook": {
     "kernelName": "csharp"
    },
    "vscode": {
     "languageId": "polyglot-notebook"
    }
   },
   "outputs": [],
   "source": [
    "// Import Semantic Kernel\n",
    "#r \"nuget: Microsoft.SemanticKernel, 1.7.1\""
   ]
  },
  {
   "cell_type": "markdown",
   "metadata": {},
   "source": [
    "# 2.1 🚀 Initialization and Configuration\n",
    "\n",
    "* In this section, libraries are imported, and OpenAI services are configured. The KernelBuilder is initialized to set up the Semantic Kernel. OpenAI models, including GPT-3.5 Turbo and GPT-4 32K, are loaded with their associated API keys and endpoints. Finally, the Semantic Kernel is built using the configured settings."
   ]
  },
  {
   "cell_type": "code",
   "execution_count": null,
   "metadata": {
    "dotnet_interactive": {
     "language": "csharp"
    },
    "polyglot_notebook": {
     "kernelName": "csharp"
    },
    "vscode": {
     "languageId": "polyglot-notebook"
    }
   },
   "outputs": [],
   "source": [
    "using Microsoft.SemanticKernel;\n",
    "\n",
    "var builder = new KernelBuilder();"
   ]
  },
  {
   "cell_type": "code",
   "execution_count": null,
   "metadata": {
    "dotnet_interactive": {
     "language": "csharp"
    },
    "polyglot_notebook": {
     "kernelName": "csharp"
    },
    "vscode": {
     "languageId": "polyglot-notebook"
    }
   },
   "outputs": [],
   "source": [
    "// Loading models and setting up OpenAI chat completion services\n",
    "var (model1, azureEndpoint1, apiKey1, gpt35TurboServiceId) = Settings.LoadFromFile(model: \"gpt-35-turbo\");\n",
    "builder.AddAzureOpenAIChatCompletion(model1, model1, azureEndpoint1, apiKey1, serviceId: gpt35TurboServiceId);\n",
    "\n",
    "var (model2, azureEndpoint2, apiKey2, gpt4ServiceId) = Settings.LoadFromFile(model: \"gpt-4-32k\");\n",
    "builder.AddAzureOpenAIChatCompletion(model2, model2, azureEndpoint2, apiKey2, serviceId: gpt4ServiceId);\n",
    "\n",
    "var kernel = builder.Build();"
   ]
  },
  {
   "cell_type": "markdown",
   "metadata": {},
   "source": [
    "# 2.2. 🚀 Semantic Kernel Pipeline: Calling Chain of Functions\n",
    "\n",
    "* The pipeline begins by defining prompts for functions, including requests to find top books in world history and to translate text. Functions are then created based on these prompts. The pipeline is organized by specifying the order in which functions will be executed.\n"
   ]
  },
  {
   "cell_type": "code",
   "execution_count": null,
   "metadata": {
    "dotnet_interactive": {
     "language": "csharp"
    },
    "polyglot_notebook": {
     "kernelName": "csharp"
    },
    "vscode": {
     "languageId": "polyglot-notebook"
    }
   },
   "outputs": [],
   "source": [
    "// Prompts initialization\n",
    "string findBooksPrompt = @\"I would sincerely appreciate your assistance in curating a list of the top {{$BooksNumber}} books that explore the fascinating realm of world history. \n",
    "It would be especially helpful if you could suggest books from the period {{$YearFrom}} to {{$YearTo}}. Show just Name and Author.\";\n",
    "\n",
    "string translatePrompt = \"Your linguistic expertise is highly valued. Please translate the following text into {{$Lang}}. TEXT: {{$Input}}\";"
   ]
  },
  {
   "cell_type": "code",
   "execution_count": null,
   "metadata": {
    "dotnet_interactive": {
     "language": "csharp"
    },
    "polyglot_notebook": {
     "kernelName": "csharp"
    },
    "vscode": {
     "languageId": "polyglot-notebook"
    }
   },
   "outputs": [],
   "source": [
    "// Create function for finding top books in world history\n",
    "KernelFunction findBooksFunction = kernel.CreateFunctionFromPrompt(\n",
    "    findBooksPrompt,\n",
    "    functionName: \"TopBooks\",\n",
    "    description: \"Retrieves a curated list of top books on world history within a specified time period.\");\n",
    "\n",
    "// Create function for translating text\n",
    "KernelFunction translateFunction = kernel.CreateFunctionFromPrompt(\n",
    "    translatePrompt,\n",
    "    functionName: \"Translate\",\n",
    "    description: \"Translates the provided text into the specified language.\");\n"
   ]
  },
  {
   "cell_type": "code",
   "execution_count": null,
   "metadata": {
    "dotnet_interactive": {
     "language": "csharp"
    },
    "polyglot_notebook": {
     "kernelName": "csharp"
    },
    "vscode": {
     "languageId": "polyglot-notebook"
    }
   },
   "outputs": [],
   "source": [
    "// Set up a pipeline of functions to be executed\n",
    "var pipeline = new KernelFunction[]\n",
    "{\n",
    "    findBooksFunction,\n",
    "    translateFunction\n",
    "};"
   ]
  },
  {
   "cell_type": "markdown",
   "metadata": {},
   "source": [
    "# 2.3. 🚀 Function Arguments\n",
    "\n",
    "* This module focuses on setting up specific arguments required for function execution. Parameters such as the number of books, date range, and target language for translation are defined to tailor the behavior of the functions.\n"
   ]
  },
  {
   "cell_type": "code",
   "execution_count": null,
   "metadata": {
    "dotnet_interactive": {
     "language": "csharp"
    },
    "polyglot_notebook": {
     "kernelName": "csharp"
    },
    "vscode": {
     "languageId": "polyglot-notebook"
    }
   },
   "outputs": [],
   "source": [
    "using Microsoft.SemanticKernel.Connectors.AI.OpenAI;\n",
    "\n",
    "// Set execution settings for OpenAI service\n",
    "KernelArguments arguments = new KernelArguments\n",
    "{\n",
    "    ExecutionSettings = new OpenAIPromptExecutionSettings\n",
    "    {\n",
    "        ServiceId = gpt4ServiceId,\n",
    "        Temperature = 2,\n",
    "        TopP = 1\n",
    "    }\n",
    "};\n",
    "\n",
    "// Set specific arguments for the findBooks function\n",
    "arguments.Add(\"BooksNumber\", \"10\");\n",
    "arguments.Add(\"YearFrom\", \"1990\");\n",
    "arguments.Add(\"YearTo\", \"2000\");\n",
    "\n",
    "// Set specific aguments for the translate function\n",
    "arguments.Add(\"Lang\", \"Italian\");"
   ]
  },
  {
   "cell_type": "markdown",
   "metadata": {},
   "source": [
    "# 2.4. 🚀 Event Handlers\n",
    "\n",
    "* Event handlers are established to capture and respond to events during Semantic Kernel execution. These handlers cover prompt rendering, prompt rendered, function invoking, and function invoked events, providing insights into the execution flow.\n"
   ]
  },
  {
   "cell_type": "code",
   "execution_count": null,
   "metadata": {
    "dotnet_interactive": {
     "language": "csharp"
    },
    "polyglot_notebook": {
     "kernelName": "csharp"
    },
    "vscode": {
     "languageId": "polyglot-notebook"
    }
   },
   "outputs": [],
   "source": [
    "using Microsoft.SemanticKernel.Events;\n",
    "\n",
    "kernel.FunctionInvoking += Kernel_FunctionInvoking;\n",
    "kernel.FunctionInvoked += Kernel_FunctionInvoked;\n",
    "kernel.PromptRendering += Kernel_PromptRendering;\n",
    "kernel.PromptRendered += Kernel_PromptRendered;\n",
    "\n",
    "// Define event handlers\n",
    "void Kernel_PromptRendering(object? sender, PromptRenderingEventArgs e)\n",
    "{\n",
    "    Console.WriteLine($\"[PromptRendering]: \\n\\t // {e.Function.Description} \\n\\t {e.Function.Name} ({string.Join(\":\", e.Arguments)})\");\n",
    "}\n",
    "\n",
    "void Kernel_PromptRendered(object? sender, PromptRenderedEventArgs e)\n",
    "{\n",
    "    Console.WriteLine($\"[PromptRendered]: \\n\\t{e.RenderedPrompt}\");\n",
    "}\n",
    "\n",
    "void Kernel_FunctionInvoking(object? sender, FunctionInvokingEventArgs e)\n",
    "{\n",
    "    Console.WriteLine($\"[FunctionInvoking]: \\n\\t // {e.Function.Description} \\n\\t {e.Function.Name} ({string.Join(\":\", e.Arguments)})\");\n",
    "}\n",
    "\n",
    "void Kernel_FunctionInvoked(object? sender, FunctionInvokedEventArgs e)\n",
    "{\n",
    "    Console.WriteLine($\"[FunctionInvoked]: \\n\\t {e.Function.Name}\");\n",
    "}"
   ]
  },
  {
   "cell_type": "markdown",
   "metadata": {},
   "source": [
    "# 2.4. 🚀 Function Pipeline Invocation and Output\n",
    "\n",
    "* Functions in the pipeline are invoked, and the results are displayed. This section showcases the step-by-step execution of the Semantic Kernel, allowing for a better understanding of its behavior and outputs.\n"
   ]
  },
  {
   "cell_type": "code",
   "execution_count": null,
   "metadata": {
    "dotnet_interactive": {
     "language": "csharp"
    },
    "polyglot_notebook": {
     "kernelName": "csharp"
    },
    "vscode": {
     "languageId": "polyglot-notebook"
    }
   },
   "outputs": [],
   "source": [
    "// Invoke each function in the pipeline and display the output\n",
    "\n",
    "var outputs = new List<string>();\n",
    "\n",
    "foreach (var item in pipeline)\n",
    "{\n",
    "    var pipelineResult = await kernel.InvokeAsync(item, arguments);\n",
    "    arguments[\"Input\"] = pipelineResult;\n",
    "    var valueAsString = pipelineResult.GetValue<string>();\n",
    "    outputs.Add($\"[{pipelineResult.Function.Name}]: {valueAsString}\");\n",
    "}"
   ]
  },
  {
   "cell_type": "code",
   "execution_count": null,
   "metadata": {
    "dotnet_interactive": {
     "language": "csharp"
    },
    "polyglot_notebook": {
     "kernelName": "csharp"
    },
    "vscode": {
     "languageId": "polyglot-notebook"
    }
   },
   "outputs": [],
   "source": [
    "Console.WriteLine(string.Join(\"\\n\", outputs));"
   ]
  }
 ],
 "metadata": {
  "kernelspec": {
   "display_name": "Python 3",
   "language": "python",
   "name": "python3"
  },
  "language_info": {
   "name": "python",
   "version": "3.12.0"
  },
  "polyglot_notebook": {
   "kernelInfo": {
    "defaultKernelName": "csharp",
    "items": [
     {
      "aliases": [],
      "name": "csharp"
     }
    ]
   }
  }
 },
 "nbformat": 4,
 "nbformat_minor": 2
}
