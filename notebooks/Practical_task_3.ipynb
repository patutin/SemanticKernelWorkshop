{
 "cells": [
  {
   "cell_type": "code",
   "execution_count": null,
   "metadata": {
    "dotnet_interactive": {
     "language": "csharp"
    },
    "polyglot_notebook": {
     "kernelName": "csharp"
    }
   },
   "outputs": [],
   "source": [
    "#!import config/Settings.cs"
   ]
  },
  {
   "cell_type": "code",
   "execution_count": null,
   "metadata": {
    "dotnet_interactive": {
     "language": "csharp"
    },
    "polyglot_notebook": {
     "kernelName": "csharp"
    }
   },
   "outputs": [],
   "source": [
    "// Import Semantic Kernel\n",
    "#r \"nuget: Microsoft.SemanticKernel, 1.7.1\""
   ]
  },
  {
   "cell_type": "code",
   "execution_count": null,
   "metadata": {
    "dotnet_interactive": {
     "language": "csharp"
    },
    "polyglot_notebook": {
     "kernelName": "csharp"
    }
   },
   "outputs": [],
   "source": [
    "using Microsoft.SemanticKernel;\n",
    "\n",
    "var builder = new KernelBuilder();"
   ]
  },
  {
   "cell_type": "code",
   "execution_count": null,
   "metadata": {
    "dotnet_interactive": {
     "language": "csharp"
    },
    "polyglot_notebook": {
     "kernelName": "csharp"
    }
   },
   "outputs": [],
   "source": [
    "// Loading models and setting up OpenAI chat completion services\n",
    "var (model1, azureEndpoint1, apiKey1, gpt35TurboServiceId) = Settings.LoadFromFile(model: \"gpt-35-turbo\");\n",
    "builder.AddAzureOpenAIChatCompletion(model1, model1, azureEndpoint1, apiKey1, serviceId: gpt35TurboServiceId);\n",
    "\n",
    "var (model2, azureEndpoint2, apiKey2, gpt4ServiceId) = Settings.LoadFromFile(model: \"gpt-4-32k\");\n",
    "builder.AddAzureOpenAIChatCompletion(model2, model2, azureEndpoint2, apiKey2, serviceId: gpt4ServiceId);\n",
    "\n",
    "var kernel = builder.Build();"
   ]
  },
  {
   "cell_type": "code",
   "execution_count": null,
   "metadata": {
    "dotnet_interactive": {
     "language": "csharp"
    },
    "polyglot_notebook": {
     "kernelName": "csharp"
    }
   },
   "outputs": [],
   "source": [
    "using Microsoft.SemanticKernel.Connectors.AI.OpenAI;\n",
    "\n",
    "// Set execution settings for OpenAI service\n",
    "var arguments = new KernelArguments\n",
    "{\n",
    "    ExecutionSettings = new OpenAIPromptExecutionSettings\n",
    "    {\n",
    "        ServiceId = gpt4ServiceId,\n",
    "        Temperature = 2,\n",
    "        TopP = 1\n",
    "    }\n",
    "};\n",
    "\n",
    "// Set specific arguments for the findBooks function\n",
    "arguments.Add(\"BooksNumber\", \"10\");\n",
    "arguments.Add(\"YearFrom\", \"1900\");\n",
    "arguments.Add(\"YearTo\", \"2000\");"
   ]
  },
  {
   "cell_type": "markdown",
   "metadata": {},
   "source": [
    "# 3.1 🚀 Using Built-in SK Plugins: Loading Functions\n",
    "\n",
    "The SK provides a set of built-in native plugins that offer powerful functionality for code analysis and manipulation. Loading functions from these plugins allows you to leverage their capabilities seamlessly within your code. Follow the steps below to harness the features of built-in native SK plugins."
   ]
  },
  {
   "cell_type": "code",
   "execution_count": null,
   "metadata": {
    "dotnet_interactive": {
     "language": "csharp"
    },
    "polyglot_notebook": {
     "kernelName": "csharp"
    }
   },
   "outputs": [],
   "source": [
    "using Microsoft.SemanticKernel.Plugins.Core;\n",
    "\n",
    "#pragma warning disable SKEXP0050\n",
    "\n",
    "var timeFunctions = kernel.ImportPluginFromObject(new TimePlugin(), \"time\");\n",
    "\n",
    "arguments.Add(\"input\", \"100\");\n",
    "\n",
    "var result = await kernel.InvokeAsync(timeFunctions[\"daysAgo\"], arguments);\n",
    "\n",
    "Console.WriteLine(result);\n",
    "\n",
    "#pragma warning restore SKEXP0050"
   ]
  },
  {
   "cell_type": "markdown",
   "metadata": {},
   "source": [
    "# 3.2 🚀 Loading and calling functions from CustomPlugin"
   ]
  },
  {
   "cell_type": "code",
   "execution_count": null,
   "metadata": {
    "dotnet_interactive": {
     "language": "csharp"
    },
    "polyglot_notebook": {
     "kernelName": "csharp"
    }
   },
   "outputs": [],
   "source": [
    "using Microsoft.SemanticKernel;\n",
    "\n",
    "#!import Plugins/CustomPlugin/CustomPlugin.cs"
   ]
  },
  {
   "cell_type": "code",
   "execution_count": null,
   "metadata": {
    "dotnet_interactive": {
     "language": "csharp"
    },
    "polyglot_notebook": {
     "kernelName": "csharp"
    }
   },
   "outputs": [],
   "source": [
    "// Import your CustomPlugin to Semantic Kernel\n",
    "\n",
    "#pragma warning disable SKEXP0050\n",
    "\n",
    "var customPluginFunctions = kernel.ImportPluginFromObject(new CustomPlugin(kernel, serviceId: gpt4ServiceId));\n",
    "Console.WriteLine($\"{string.Join(\"\\n\", customPluginFunctions.Select(_ => $\"[{_.Name}] : {_.Description}\"))}\");\n",
    "\n",
    "#pragma warning restore SKEXP0050"
   ]
  },
  {
   "cell_type": "code",
   "execution_count": null,
   "metadata": {
    "dotnet_interactive": {
     "language": "csharp"
    },
    "polyglot_notebook": {
     "kernelName": "csharp"
    }
   },
   "outputs": [],
   "source": [
    "Func<string, string, Task> TranslateAsync = async (string input, string lang) => {\n",
    "    // Save new message in the context variables\n",
    "    arguments[\"input\"] = input;\n",
    "    arguments[\"lang\"] = lang;\n",
    "    \n",
    "    var answer = await customPluginFunctions[\"Translate\"].InvokeAsync(kernel, arguments);\n",
    "};"
   ]
  },
  {
   "cell_type": "code",
   "execution_count": null,
   "metadata": {
    "dotnet_interactive": {
     "language": "csharp"
    },
    "polyglot_notebook": {
     "kernelName": "csharp"
    }
   },
   "outputs": [],
   "source": [
    "arguments[\"history\"] = string.Empty;"
   ]
  },
  {
   "cell_type": "code",
   "execution_count": null,
   "metadata": {
    "dotnet_interactive": {
     "language": "csharp"
    },
    "polyglot_notebook": {
     "kernelName": "csharp"
    }
   },
   "outputs": [],
   "source": [
    "#pragma warning disable SKEXP0050\n",
    "\n",
    "Func<string, Task> ChatAsync = async (string input) => {\n",
    "    // Save new message in the context variables\n",
    "    arguments[\"message\"] = input;\n",
    "\n",
    "    var answer = await customPluginFunctions[\"Chat\"].InvokeAsync(kernel, arguments);\n",
    "};\n",
    "\n",
    "#pragma warning restore SKEXP0050"
   ]
  },
  {
   "cell_type": "code",
   "execution_count": null,
   "metadata": {
    "dotnet_interactive": {
     "language": "csharp"
    },
    "polyglot_notebook": {
     "kernelName": "csharp"
    }
   },
   "outputs": [],
   "source": [
    "var sourceInput = \"Hi, I'm looking for the best historical book suggestions top-{{$BooksNumber}} from {{$YearFrom}} to {{$YearTo}}\";"
   ]
  },
  {
   "cell_type": "code",
   "execution_count": null,
   "metadata": {
    "dotnet_interactive": {
     "language": "csharp"
    },
    "polyglot_notebook": {
     "kernelName": "csharp"
    }
   },
   "outputs": [],
   "source": [
    "// Translate to 'Italian' using 'Translate' function from CustomPlugin\n",
    "await TranslateAsync(sourceInput, \"Italian\");"
   ]
  },
  {
   "cell_type": "code",
   "execution_count": null,
   "metadata": {
    "dotnet_interactive": {
     "language": "csharp"
    },
    "polyglot_notebook": {
     "kernelName": "csharp"
    }
   },
   "outputs": [],
   "source": [
    "// Translate to 'Russian' using 'Translate' function from CustomPlugin\n",
    "await TranslateAsync(sourceInput, \"Russian\");"
   ]
  },
  {
   "cell_type": "code",
   "execution_count": null,
   "metadata": {
    "dotnet_interactive": {
     "language": "csharp"
    },
    "polyglot_notebook": {
     "kernelName": "csharp"
    }
   },
   "outputs": [],
   "source": [
    "// Translate to 'Chinese' using 'Translate' function from CustomPlugin\n",
    "await TranslateAsync(sourceInput, \"Chinese\");"
   ]
  },
  {
   "cell_type": "code",
   "execution_count": null,
   "metadata": {
    "dotnet_interactive": {
     "language": "csharp"
    },
    "polyglot_notebook": {
     "kernelName": "csharp"
    }
   },
   "outputs": [],
   "source": [
    "await ChatAsync(sourceInput);"
   ]
  },
  {
   "cell_type": "code",
   "execution_count": null,
   "metadata": {
    "dotnet_interactive": {
     "language": "csharp"
    },
    "polyglot_notebook": {
     "kernelName": "csharp"
    }
   },
   "outputs": [],
   "source": [
    "await ChatAsync(\"And from these books find top-10 the most intresting facts\");"
   ]
  },
  {
   "cell_type": "code",
   "execution_count": null,
   "metadata": {
    "dotnet_interactive": {
     "language": "csharp"
    },
    "polyglot_notebook": {
     "kernelName": "csharp"
    }
   },
   "outputs": [],
   "source": [
    "await ChatAsync(\"Describe he main idea of selected facts\");"
   ]
  },
  {
   "cell_type": "code",
   "execution_count": null,
   "metadata": {
    "dotnet_interactive": {
     "language": "csharp"
    },
    "polyglot_notebook": {
     "kernelName": "csharp"
    }
   },
   "outputs": [],
   "source": [
    "Console.WriteLine($\"[Chat History]: {arguments[\"history\"]}\");"
   ]
  },
  {
   "cell_type": "markdown",
   "metadata": {},
   "source": [
    "# 3.3 🚀 Build-in Plugins"
   ]
  },
  {
   "cell_type": "code",
   "execution_count": null,
   "metadata": {
    "dotnet_interactive": {
     "language": "csharp"
    },
    "polyglot_notebook": {
     "kernelName": "csharp"
    }
   },
   "outputs": [],
   "source": [
    "#r \"nuget: Microsoft.SemanticKernel.Plugins.Web, 1.0.0-rc3\""
   ]
  },
  {
   "cell_type": "code",
   "execution_count": null,
   "metadata": {
    "dotnet_interactive": {
     "language": "csharp"
    },
    "polyglot_notebook": {
     "kernelName": "csharp"
    }
   },
   "outputs": [],
   "source": [
    "using Microsoft.SemanticKernel.Plugins.Web.Google;\n",
    "using Microsoft.SemanticKernel.Plugins.Web;\n",
    "\n",
    "var (_, googleSearchEngineId, googleApiKey, _) = Settings.LoadFromFile(model: \"google-connector\");\n",
    "\n",
    "#pragma warning disable SKEXP0054\n",
    "using (var googleConnector = new GoogleConnector(apiKey: googleApiKey,searchEngineId: googleSearchEngineId))\n",
    "{\n",
    "    var google = new WebSearchEnginePlugin(googleConnector);\n",
    "    kernel.ImportPluginFromObject(new WebSearchEnginePlugin(googleConnector), \"google\");\n",
    "\n",
    "    var question = \"What's the largest building in the world?\";\n",
    "    var function = kernel.Plugins[\"google\"][\"search\"];\n",
    "    var result = await kernel.InvokeAsync(function, new(question));\n",
    "    Console.WriteLine($\"Google search result: {result}\");\n",
    "}\n"
   ]
  }
 ],
 "metadata": {
  "kernelspec": {
   "display_name": ".NET (C#)",
   "language": "C#",
   "name": ".net-csharp"
  },
  "language_info": {
   "name": "polyglot-notebook"
  },
  "polyglot_notebook": {
   "kernelInfo": {
    "defaultKernelName": "csharp",
    "items": [
     {
      "aliases": [],
      "name": "csharp"
     }
    ]
   }
  }
 },
 "nbformat": 4,
 "nbformat_minor": 2
}
