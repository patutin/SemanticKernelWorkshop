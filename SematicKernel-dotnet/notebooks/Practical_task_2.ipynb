{
 "cells": [
  {
   "cell_type": "code",
   "execution_count": 5,
   "metadata": {
    "dotnet_interactive": {
     "language": "csharp"
    },
    "polyglot_notebook": {
     "kernelName": "csharp"
    },
    "vscode": {
     "languageId": "polyglot-notebook"
    }
   },
   "outputs": [],
   "source": [
    "#!import config/Settings.cs"
   ]
  },
  {
   "cell_type": "code",
   "execution_count": 1,
   "metadata": {
    "dotnet_interactive": {
     "language": "csharp"
    },
    "polyglot_notebook": {
     "kernelName": "csharp"
    },
    "vscode": {
     "languageId": "polyglot-notebook"
    }
   },
   "outputs": [
    {
     "data": {
      "text/html": [
       "<div><div></div><div></div><div><strong>Installed Packages</strong><ul><li><span>Microsoft.SemanticKernel, 1.0.0-rc3</span></li></ul></div></div>"
      ]
     },
     "metadata": {},
     "output_type": "display_data"
    }
   ],
   "source": [
    "// Import Semantic Kernel\n",
    "#r \"nuget: Microsoft.SemanticKernel, 1.0.0-rc3\""
   ]
  },
  {
   "cell_type": "code",
   "execution_count": 2,
   "metadata": {
    "dotnet_interactive": {
     "language": "csharp"
    },
    "polyglot_notebook": {
     "kernelName": "csharp"
    },
    "vscode": {
     "languageId": "polyglot-notebook"
    }
   },
   "outputs": [],
   "source": [
    "using Microsoft.SemanticKernel;\n",
    "\n",
    "var builder = new KernelBuilder();"
   ]
  },
  {
   "cell_type": "code",
   "execution_count": 6,
   "metadata": {
    "dotnet_interactive": {
     "language": "csharp"
    },
    "polyglot_notebook": {
     "kernelName": "csharp"
    },
    "vscode": {
     "languageId": "polyglot-notebook"
    }
   },
   "outputs": [],
   "source": [
    "using Kernel = Microsoft.SemanticKernel.Kernel;\n",
    "\n",
    "var (model1, azureEndpoint1, apiKey1, gpt35TurboServiceId) = Settings.LoadFromFile(model: \"gpt-35-turbo\");\n",
    "builder.WithAzureOpenAIChatCompletionService(model1, azureEndpoint1, apiKey1, serviceId: gpt35TurboServiceId);\n",
    "\n",
    "builder.AddAzureOpenAIChatCompletion(model, model, azureEndpoint, apiKey, serviceId: orgId);\n",
    "\n",
    "var kernel = builder.Build();"
   ]
  },
  {
   "cell_type": "markdown",
   "metadata": {},
   "source": [
    "# 2.1. 🚀 Semantic Kernel Pipeline: Calling Chain of Inline Semantic Functions\n",
    "\n",
    "In the SK pipeline, you can create a powerful and expressive chain of inline functions. These functions, when executed sequentially, form a cohesive and efficient processing pipeline. Each function plays a specific role in transforming and analyzing data, contributing to the overall semantic understanding of the code.\n"
   ]
  },
  {
   "cell_type": "code",
   "execution_count": 23,
   "metadata": {
    "dotnet_interactive": {
     "language": "csharp"
    },
    "polyglot_notebook": {
     "kernelName": "csharp"
    },
    "vscode": {
     "languageId": "polyglot-notebook"
    }
   },
   "outputs": [],
   "source": [
    "using System;\n",
    "using Microsoft.SemanticKernel.Orchestration;\n",
    "\n",
    "SKContext context = kernel.CreateNewContext();"
   ]
  },
  {
   "cell_type": "code",
   "execution_count": 24,
   "metadata": {
    "dotnet_interactive": {
     "language": "csharp"
    },
    "polyglot_notebook": {
     "kernelName": "csharp"
    },
    "vscode": {
     "languageId": "polyglot-notebook"
    }
   },
   "outputs": [],
   "source": [
    "using Microsoft.SemanticKernel.Connectors.AI.OpenAI;\n",
    "\n",
    "var requestSettings = new OpenAIRequestSettings\n",
    "{\n",
    "    Temperature = 0.7,\n",
    "    ServiceId = gpt4ServiceId,\n",
    "};\n",
    "\n",
    "context.Variables[\"NumberOfParticipants\"] = \"3\";\n",
    "context.Variables[\"NumberOfWords\"] = \"25\";\n",
    "\n",
    "var chatStoryPrompt = \"Craft a {{$NumberOfWords}}-word chat transcript involving {{$NumberOfParticipants}} users engaging with an online virtual assistant.\";\n",
    "var chatStoryFunction = kernel.CreateSemanticFunction(\n",
    "    promptTemplate: chatStoryPrompt, \n",
    "    pluginName: nameof(chatStoryPrompt),\n",
    "    requestSettings: requestSettings);"
   ]
  },
  {
   "cell_type": "code",
   "execution_count": 25,
   "metadata": {
    "dotnet_interactive": {
     "language": "csharp"
    },
    "polyglot_notebook": {
     "kernelName": "csharp"
    },
    "vscode": {
     "languageId": "polyglot-notebook"
    }
   },
   "outputs": [],
   "source": [
    "using Microsoft.SemanticKernel.Connectors.AI.OpenAI;\n",
    "\n",
    "var requestSettings = new OpenAIRequestSettings\n",
    "{\n",
    "    Temperature = 2,\n",
    "    ServiceId = gpt4ServiceId,\n",
    "};\n",
    "\n",
    "context.Variables[\"Lang\"] = \"Italian\";\n",
    "\n",
    "var translateStoryPrompt = \"You are the best linguist. Please translate the given TEXT to {{$Lang}}. TEXT: {{$Input}}\";\n",
    "\n",
    "var translateStoryFunction = kernel.CreateSemanticFunction(\n",
    "    promptTemplate: translateStoryPrompt, \n",
    "    pluginName: nameof(translateStoryPrompt),\n",
    "    requestSettings: requestSettings);"
   ]
  },
  {
   "cell_type": "code",
   "execution_count": 26,
   "metadata": {
    "dotnet_interactive": {
     "language": "csharp"
    },
    "polyglot_notebook": {
     "kernelName": "csharp"
    },
    "vscode": {
     "languageId": "polyglot-notebook"
    }
   },
   "outputs": [
    {
     "name": "stdout",
     "output_type": "stream",
     "text": [
      "RESULT: User1: \"Hello, Assistant.\"\n",
      "Assistant: \"Hi, how can I help you?\"\n",
      "User2: \"What's the weather like?\"\n",
      "Assistant: \"Let me check that for you.\"\n",
      "User3: \"Thanks, Assistant.\"\n",
      "\n",
      "===================\n",
      "\n",
      "User1: \"Ciao, Assistente.\"\n",
      "Assistente: \"Ciao, come posso aiutarti?\"\n",
      "User2: \"Com'è il tempo?\"\n",
      "Assistente: \"Lascia che lo controlli per te.\"\n",
      "User3: \"Grazie, Assistente.\"\r\n"
     ]
    }
   ],
   "source": [
    "ISKFunction[] pipeline = new ISKFunction[]\n",
    "{\n",
    "    chatStoryFunction,\n",
    "    translateStoryFunction,\n",
    "};\n",
    "\n",
    "var pipelineResult = await kernel.RunAsync(context.Variables, pipeline);\n",
    "\n",
    "Console.WriteLine($\"RESULT: {string.Join(\"\\n\\n===================\\n\\n\", pipelineResult.FunctionResults.Select(_ => _.GetValue<string>()))}\");"
   ]
  },
  {
   "cell_type": "markdown",
   "metadata": {},
   "source": [
    "# 2.2 🚀 Using Built-in Native Semantic Kernel Plugins: Loading Functions\n",
    "\n",
    "The SK provides a set of built-in native plugins that offer powerful functionality for code analysis and manipulation. Loading functions from these plugins allows you to leverage their capabilities seamlessly within your code. Follow the steps below to harness the features of built-in native SK plugins.\n"
   ]
  },
  {
   "cell_type": "code",
   "execution_count": 27,
   "metadata": {
    "dotnet_interactive": {
     "language": "csharp"
    },
    "polyglot_notebook": {
     "kernelName": "csharp"
    },
    "vscode": {
     "languageId": "polyglot-notebook"
    }
   },
   "outputs": [
    {
     "name": "stdout",
     "output_type": "stream",
     "text": [
      "Friday, September 1, 2023\r\n"
     ]
    }
   ],
   "source": [
    "using Microsoft.SemanticKernel.Plugins.Core;\n",
    "\n",
    "var timeFunctions = kernel.ImportFunctions(new TimePlugin(), \"time\");\n",
    "context.Variables[\"input\"] = \"100\";\n",
    "var result = await kernel.RunAsync(context.Variables, timeFunctions[\"daysAgo\"]);\n",
    "\n",
    "Console.WriteLine(result);"
   ]
  },
  {
   "cell_type": "code",
   "execution_count": 28,
   "metadata": {
    "dotnet_interactive": {
     "language": "csharp"
    },
    "polyglot_notebook": {
     "kernelName": "csharp"
    },
    "vscode": {
     "languageId": "polyglot-notebook"
    }
   },
   "outputs": [],
   "source": [
    "using System.Threading.Tasks;\n",
    "using Microsoft.SemanticKernel;\n",
    "using Microsoft.SemanticKernel.Connectors.AI.OpenAI;\n",
    "using Microsoft.SemanticKernel.Orchestration;\n",
    "using Microsoft.SemanticKernel.TemplateEngine;\n",
    "using Microsoft.SemanticKernel.TemplateEngine.Basic;\n",
    "using Microsoft.DotNet.Interactive;\n",
    "using InteractiveKernel = Microsoft.DotNet.Interactive.Kernel;\n",
    "using System.ComponentModel;\n",
    "\n",
    "public class CustomPlugin\n",
    "{\n",
    "    private readonly IKernel _kernel;\n",
    "    private readonly IPromptTemplateFactory _promptTemplateFactory;\n",
    "    private readonly string _serviceId;\n",
    "\n",
    "    public CustomPlugin(IKernel kernel, IPromptTemplateFactory promptTemplateFactory = null, string serviceId = \"gpt35TurboServiceId\")\n",
    "    {\n",
    "        _kernel = kernel;\n",
    "        _promptTemplateFactory = promptTemplateFactory ?? new BasicPromptTemplateFactory();\n",
    "        _serviceId = serviceId;\n",
    "    }\n",
    "\n",
    "    [SKFunction, Description(\"Initiates a chat with the ChatBot.\")]\n",
    "    public async Task<string> ChatAsync(SKContext context)\n",
    "    {\n",
    "        var prompt = @\"\n",
    "        Today is: {{time.Date}}\n",
    "        Current time is: {{time.Time}}\n",
    "\n",
    "        ChatBot can have a conversation with you about any topic.\n",
    "            It can give detailed answer or say 'I don't know' if it does not have an answer.\n",
    "\n",
    "            {{$history}}\n",
    "            User: {{$message}}\n",
    "            ChatBot:\";\n",
    "\n",
    "        var renderedPrompt = await _promptTemplateFactory.Create(prompt, new PromptTemplateConfig()).RenderAsync(context);\n",
    "\n",
    "        var skFunction = _kernel.CreateSemanticFunction(\n",
    "            promptTemplate: renderedPrompt,\n",
    "            functionName: nameof(ChatAsync),\n",
    "            pluginName: nameof(CustomPlugin),\n",
    "            description: \"Complete the prompt.\");\n",
    "\n",
    "        var requestSettings = new OpenAIRequestSettings\n",
    "        {\n",
    "            Temperature = 0.7,\n",
    "            ServiceId = _serviceId\n",
    "        };\n",
    "\n",
    "        var result = await skFunction.InvokeAsync(context: context, requestSettings: requestSettings);\n",
    "        var resultAsString = result.GetValue<string>();\n",
    "        // Append the new interaction to the chat history\n",
    "        string history = context.Variables[\"history\"];\n",
    "        history += $\"\\nUser: {context.Variables[\"message\"]}\\nSuggestions: {resultAsString}\\n\";\n",
    "        return history;\n",
    "    }\n",
    "\n",
    "    [SKFunction, Description(\"Initiates a translation task with the ChatBot by requesting the translation of a given text to a specified language.\")]\n",
    "    public async Task<string> TranslateAsync(SKContext context)\n",
    "    {\n",
    "        var prompt = @\"You are the best linguist. Please translate the given TEXT to {{$lang}}. TEXT: {{$Input}}\";\n",
    "\n",
    "        var renderedPrompt = await _promptTemplateFactory.Create(prompt, new PromptTemplateConfig()).RenderAsync(context);\n",
    "\n",
    "        var skFunction = _kernel.CreateSemanticFunction(\n",
    "            promptTemplate: renderedPrompt,\n",
    "            functionName: nameof(TranslateAsync),\n",
    "            pluginName: nameof(CustomPlugin),\n",
    "            description: \"Complete the prompt.\");\n",
    "\n",
    "        var requestSettings = new OpenAIRequestSettings\n",
    "        {\n",
    "            Temperature = 0.1,\n",
    "            ServiceId = _serviceId\n",
    "        };\n",
    "\n",
    "        var result = await skFunction.InvokeAsync(context: context, requestSettings: requestSettings);\n",
    "        return result.GetValue<string>();\n",
    "    }\n",
    "}"
   ]
  },
  {
   "cell_type": "code",
   "execution_count": 29,
   "metadata": {
    "dotnet_interactive": {
     "language": "csharp"
    },
    "polyglot_notebook": {
     "kernelName": "csharp"
    },
    "vscode": {
     "languageId": "polyglot-notebook"
    }
   },
   "outputs": [
    {
     "name": "stdout",
     "output_type": "stream",
     "text": [
      "[Chat] : Initiates a chat with the ChatBot.\n",
      "[Translate] : Initiates a translation task with the ChatBot by requesting the translation of a given text to a specified language.\r\n"
     ]
    }
   ],
   "source": [
    "var functions = kernel.ImportFunctions(new CustomPlugin(kernel, serviceId: gpt4ServiceId));\n",
    "Console.WriteLine($\"{string.Join(\"\\n\", functions.Select(_ => $\"[{_.Value.Name}] : {_.Value.Description}\"))}\");"
   ]
  },
  {
   "cell_type": "code",
   "execution_count": 30,
   "metadata": {
    "dotnet_interactive": {
     "language": "csharp"
    },
    "polyglot_notebook": {
     "kernelName": "csharp"
    },
    "vscode": {
     "languageId": "polyglot-notebook"
    }
   },
   "outputs": [
    {
     "name": "stdout",
     "output_type": "stream",
     "text": [
      "Traducimi\n",
      "Переведите меня\n",
      "翻译我\n"
     ]
    }
   ],
   "source": [
    "context.Variables[\"input\"] = \"Translate me\";\n",
    "context.Variables[\"lang\"] = \"Italian\";\n",
    "\n",
    "var result = await kernel.RunAsync(functions[\"Translate\"], context.Variables);\n",
    "\n",
    "Console.WriteLine($\"{result.GetValue<string>()}\");\n",
    "\n",
    "context.Variables[\"input\"] = \"Translate me\";\n",
    "context.Variables[\"lang\"] = \"Russian\";\n",
    "\n",
    "result = await kernel.RunAsync(functions[\"Translate\"], context.Variables);\n",
    "\n",
    "Console.WriteLine($\"{result.GetValue<string>()}\");\n",
    "\n",
    "context.Variables[\"input\"] = \"Translate me\";\n",
    "context.Variables[\"lang\"] = \"Chinese\";\n",
    "\n",
    "result = await kernel.RunAsync(functions[\"Translate\"], context.Variables);\n",
    "\n",
    "Console.WriteLine($\"{result.GetValue<string>()}\");"
   ]
  },
  {
   "cell_type": "code",
   "execution_count": 31,
   "metadata": {
    "dotnet_interactive": {
     "language": "csharp"
    },
    "polyglot_notebook": {
     "kernelName": "csharp"
    },
    "vscode": {
     "languageId": "polyglot-notebook"
    }
   },
   "outputs": [
    {
     "ename": "Error",
     "evalue": "(2,32): error CS0234: The type or namespace name 'Orchestration' does not exist in the namespace 'Microsoft.SemanticKernel' (are you missing an assembly reference?)\r\n(4,1): error CS0246: The type or namespace name 'SKContext' could not be found (are you missing a using directive or an assembly reference?)\r\n(4,28): error CS1061: 'Kernel' does not contain a definition for 'CreateNewContext' and no accessible extension method 'CreateNewContext' accepting a first argument of type 'Kernel' could be found (are you missing a using directive or an assembly reference?)",
     "output_type": "error",
     "traceback": [
      "(2,32): error CS0234: The type or namespace name 'Orchestration' does not exist in the namespace 'Microsoft.SemanticKernel' (are you missing an assembly reference?)\r\n",
      "(4,1): error CS0246: The type or namespace name 'SKContext' could not be found (are you missing a using directive or an assembly reference?)\r\n",
      "(4,28): error CS1061: 'Kernel' does not contain a definition for 'CreateNewContext' and no accessible extension method 'CreateNewContext' accepting a first argument of type 'Kernel' could be found (are you missing a using directive or an assembly reference?)"
     ]
    }
   ],
   "source": [
    "var pipeline = new []\n",
    "{\n",
    "    functions[\"Chat\"],\n",
    "    functions[\"Translate\"]\n",
    "};\n",
    "\n",
    "context.Variables[\"lang\"] = \"Russian\";\n",
    "context.Variables[\"message\"] = \"Hello\";\n",
    "context.Variables[\"history\"] = string.Empty;\n",
    "\n",
    "var result = await kernel.RunAsync(context.Variables, pipeline);\n",
    "var resultString = result.GetValue<string>();\n",
    "\n",
    "Console.WriteLine(context.Variables[\"history\"]);"
   ]
  },
  {
   "cell_type": "code",
   "execution_count": 32,
   "metadata": {
    "dotnet_interactive": {
     "language": "csharp"
    },
    "polyglot_notebook": {
     "kernelName": "csharp"
    },
    "vscode": {
     "languageId": "polyglot-notebook"
    }
   },
   "outputs": [
    {
     "ename": "Error",
     "evalue": "(3,27): error CS0246: The type or namespace name 'OpenAIRequestSettings' could not be found (are you missing a using directive or an assembly reference?)\r\n(10,37): error CS1061: 'Kernel' does not contain a definition for 'CreateSemanticFunction' and no accessible extension method 'CreateSemanticFunction' accepting a first argument of type 'Kernel' could be found (are you missing a using directive or an assembly reference?)",
     "output_type": "error",
     "traceback": [
      "(3,27): error CS0246: The type or namespace name 'OpenAIRequestSettings' could not be found (are you missing a using directive or an assembly reference?)\r\n",
      "(10,37): error CS1061: 'Kernel' does not contain a definition for 'CreateSemanticFunction' and no accessible extension method 'CreateSemanticFunction' accepting a first argument of type 'Kernel' could be found (are you missing a using directive or an assembly reference?)"
     ]
    }
   ],
   "source": [
    "Func<string, Task> Chat = async (string input) => {\n",
    "    // Save new message in the context variables\n",
    "    context.Variables[\"message\"] = input;\n",
    "    var answer = await kernel.RunAsync(context.Variables, pipeline);\n",
    "};"
   ]
  },
  {
   "cell_type": "code",
   "execution_count": 33,
   "metadata": {
    "dotnet_interactive": {
     "language": "csharp"
    },
    "polyglot_notebook": {
     "kernelName": "csharp"
    },
    "vscode": {
     "languageId": "polyglot-notebook"
    }
   },
   "outputs": [
    {
     "name": "stdout",
     "output_type": "stream",
     "text": [
      "\r\n"
     ]
    }
   ],
   "source": [
    "await Chat(\"Favorite color?\");\n",
    "await Chat(\"Best movie genre?\");\n",
    "await Chat(\"Morning or night?\");\n",
    "\n",
    "Console.WriteLine(context.Variables[\"history\"]);"
   ]
  },
  {
   "cell_type": "code",
   "execution_count": 34,
   "metadata": {
    "dotnet_interactive": {
     "language": "csharp"
    },
    "polyglot_notebook": {
     "kernelName": "csharp"
    },
    "vscode": {
     "languageId": "polyglot-notebook"
    }
   },
   "outputs": [],
   "source": [
    "// Using plugins from the repo\n",
    "using Microsoft.SemanticKernel.AI.ChatCompletion;\n",
    "\n",
    "var currentDirectory = System.IO.Directory.GetCurrentDirectory();\n",
    "var pluginsDirectory = Path.Combine(currentDirectory, \"Plugins\");\n",
    "\n",
    "var summarizePluginFunctions = kernel.ImportSemanticFunctionsFromDirectory(pluginsDirectory, \"SummarizePlugin\");"
   ]
  },
  {
   "cell_type": "code",
   "execution_count": 35,
   "metadata": {
    "dotnet_interactive": {
     "language": "csharp"
    },
    "polyglot_notebook": {
     "kernelName": "csharp"
    },
    "vscode": {
     "languageId": "polyglot-notebook"
    }
   },
   "outputs": [],
   "source": [
    "using System.Linq;\n",
    "\n",
    "var summarizeFunction = summarizePluginFunctions[\"Summarize\"];\n",
    "var requestSettings = new OpenAIRequestSettings { ServiceId = gpt4ServiceId };\n",
    "summarizeFunction.ModelSettings.Append(requestSettings);\n",
    "\n",
    "var pipeline = new []\n",
    "{\n",
    "    functions[\"Chat\"],\n",
    "    summarizePluginFunctions[\"Summarize\"],\n",
    "    functions[\"Translate\"]\n",
    "};"
   ]
  },
  {
   "cell_type": "code",
   "execution_count": 36,
   "metadata": {
    "dotnet_interactive": {
     "language": "csharp"
    },
    "polyglot_notebook": {
     "kernelName": "csharp"
    },
    "vscode": {
     "languageId": "polyglot-notebook"
    }
   },
   "outputs": [
    {
     "name": "stdout",
     "output_type": "stream",
     "text": [
      "Пользователь: Привет\n",
      "Предложения: Привет! Чем я могу помочь вам сегодня?\r\n"
     ]
    }
   ],
   "source": [
    "await Chat(\"C# or Python?\");\n",
    "\n",
    "Console.WriteLine(result.GetValue<string>());"
   ]
  }
 ],
 "metadata": {
  "kernelspec": {
   "display_name": "Python 3",
   "language": "python",
   "name": "python3"
  },
  "language_info": {
   "name": "python",
   "version": "3.12.0"
  },
  "polyglot_notebook": {
   "kernelInfo": {
    "defaultKernelName": "csharp",
    "items": [
     {
      "aliases": [],
      "name": "csharp"
     }
    ]
   }
  }
 },
 "nbformat": 4,
 "nbformat_minor": 2
}
