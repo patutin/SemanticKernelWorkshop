{
 "cells": [
  {
   "cell_type": "code",
   "execution_count": 5,
   "metadata": {
    "dotnet_interactive": {
     "language": "csharp"
    },
    "polyglot_notebook": {
     "kernelName": "csharp"
    },
    "vscode": {
     "languageId": "polyglot-notebook"
    }
   },
   "outputs": [],
   "source": [
    "#!import config/Settings.cs"
   ]
  },
  {
   "cell_type": "code",
   "execution_count": 1,
   "metadata": {
    "dotnet_interactive": {
     "language": "csharp"
    },
    "polyglot_notebook": {
     "kernelName": "csharp"
    },
    "vscode": {
     "languageId": "polyglot-notebook"
    }
   },
   "outputs": [
    {
     "data": {
      "text/html": [
       "<div><div></div><div></div><div><strong>Installed Packages</strong><ul><li><span>Microsoft.SemanticKernel, 1.0.0-rc3</span></li></ul></div></div>"
      ]
     },
     "metadata": {},
     "output_type": "display_data"
    }
   ],
   "source": [
    "// Import Semantic Kernel\n",
    "#r \"nuget: Microsoft.SemanticKernel, 1.0.0-rc3\""
   ]
  },
  {
   "cell_type": "code",
   "execution_count": 2,
   "metadata": {
    "dotnet_interactive": {
     "language": "csharp"
    },
    "polyglot_notebook": {
     "kernelName": "csharp"
    },
    "vscode": {
     "languageId": "polyglot-notebook"
    }
   },
   "outputs": [],
   "source": [
    "using Microsoft.SemanticKernel;\n",
    "\n",
    "var builder = new KernelBuilder();"
   ]
  },
  {
   "cell_type": "code",
   "execution_count": 6,
   "metadata": {
    "dotnet_interactive": {
     "language": "csharp"
    },
    "polyglot_notebook": {
     "kernelName": "csharp"
    },
    "vscode": {
     "languageId": "polyglot-notebook"
    }
   },
   "outputs": [],
   "source": [
    "using Kernel = Microsoft.SemanticKernel.Kernel;\n",
    "\n",
    "var (model, azureEndpoint, apiKey, orgId) = Settings.LoadFromFile();\n",
    "\n",
    "builder.AddAzureOpenAIChatCompletion(model, model, azureEndpoint, apiKey, serviceId: orgId);\n",
    "\n",
    "var kernel = builder.Build();"
   ]
  },
  {
   "cell_type": "markdown",
   "metadata": {},
   "source": [
    "# 2.1. 🚀 Semantic Kernel Pipeline: Calling Chain of Inline Semantic Functions\n",
    "\n",
    "In the SK pipeline, you can create a powerful and expressive chain of inline functions. These functions, when executed sequentially, form a cohesive and efficient processing pipeline. Each function plays a specific role in transforming and analyzing data, contributing to the overall semantic understanding of the code.\n"
   ]
  },
  {
   "cell_type": "code",
   "execution_count": 7,
   "metadata": {
    "dotnet_interactive": {
     "language": "csharp"
    },
    "polyglot_notebook": {
     "kernelName": "csharp"
    },
    "vscode": {
     "languageId": "polyglot-notebook"
    }
   },
   "outputs": [
    {
     "ename": "Error",
     "evalue": "(2,32): error CS0234: The type or namespace name 'Orchestration' does not exist in the namespace 'Microsoft.SemanticKernel' (are you missing an assembly reference?)\r\n(4,1): error CS0246: The type or namespace name 'SKContext' could not be found (are you missing a using directive or an assembly reference?)\r\n(4,28): error CS1061: 'Kernel' does not contain a definition for 'CreateNewContext' and no accessible extension method 'CreateNewContext' accepting a first argument of type 'Kernel' could be found (are you missing a using directive or an assembly reference?)",
     "output_type": "error",
     "traceback": [
      "(2,32): error CS0234: The type or namespace name 'Orchestration' does not exist in the namespace 'Microsoft.SemanticKernel' (are you missing an assembly reference?)\r\n",
      "(4,1): error CS0246: The type or namespace name 'SKContext' could not be found (are you missing a using directive or an assembly reference?)\r\n",
      "(4,28): error CS1061: 'Kernel' does not contain a definition for 'CreateNewContext' and no accessible extension method 'CreateNewContext' accepting a first argument of type 'Kernel' could be found (are you missing a using directive or an assembly reference?)"
     ]
    }
   ],
   "source": [
    "using System;\n",
    "using Microsoft.SemanticKernel.Orchestration;\n",
    "\n",
    "SKContext context = kernel.CreateNewContext();\n",
    "\n",
    "context.Variables[\"NumberOfCats\"] = \"10\";\n",
    "context.Variables[\"NumberOfWords\"] = \"20\";\n",
    "\n",
    "Console.WriteLine(context.ToString());"
   ]
  },
  {
   "cell_type": "code",
   "execution_count": 8,
   "metadata": {
    "dotnet_interactive": {
     "language": "csharp"
    },
    "polyglot_notebook": {
     "kernelName": "csharp"
    },
    "vscode": {
     "languageId": "polyglot-notebook"
    }
   },
   "outputs": [
    {
     "ename": "Error",
     "evalue": "(3,27): error CS0246: The type or namespace name 'OpenAIRequestSettings' could not be found (are you missing a using directive or an assembly reference?)\r\n(10,37): error CS1061: 'Kernel' does not contain a definition for 'CreateSemanticFunction' and no accessible extension method 'CreateSemanticFunction' accepting a first argument of type 'Kernel' could be found (are you missing a using directive or an assembly reference?)",
     "output_type": "error",
     "traceback": [
      "(3,27): error CS0246: The type or namespace name 'OpenAIRequestSettings' could not be found (are you missing a using directive or an assembly reference?)\r\n",
      "(10,37): error CS1061: 'Kernel' does not contain a definition for 'CreateSemanticFunction' and no accessible extension method 'CreateSemanticFunction' accepting a first argument of type 'Kernel' could be found (are you missing a using directive or an assembly reference?)"
     ]
    }
   ],
   "source": [
    "using Microsoft.SemanticKernel.Connectors.AI.OpenAI;\n",
    "\n",
    "var requestSettings = new OpenAIRequestSettings\n",
    "{\n",
    "    Temperature = 1,\n",
    "    ServiceId = orgId,\n",
    "};\n",
    "\n",
    "var funnyCatsPrompt = \"Please generate a story in {{$NumberOfWords}} words about {{$NumberOfCats}} smart cats with emojis.\";\n",
    "var funnyCatsStoryFunction = kernel.CreateSemanticFunction(\n",
    "    promptTemplate: funnyCatsPrompt, \n",
    "    pluginName: nameof(funnyCatsPrompt),\n",
    "    requestSettings: requestSettings);"
   ]
  },
  {
   "cell_type": "code",
   "execution_count": 210,
   "metadata": {
    "dotnet_interactive": {
     "language": "csharp"
    },
    "polyglot_notebook": {
     "kernelName": "csharp"
    },
    "vscode": {
     "languageId": "polyglot-notebook"
    }
   },
   "outputs": [],
   "source": [
    "using Microsoft.SemanticKernel.Connectors.AI.OpenAI;\n",
    "\n",
    "var requestSettings = new OpenAIRequestSettings\n",
    "{\n",
    "    ServiceId = orgId,\n",
    "};\n",
    "\n",
    "var translateStoryPrompt = \"Translate the given text to Russian. {{$Input}}\";\n",
    "\n",
    "var translateStoryFunction = kernel.CreateSemanticFunction(\n",
    "    promptTemplate: translateStoryPrompt, \n",
    "    pluginName: nameof(translateStoryPrompt),\n",
    "    requestSettings: requestSettings);"
   ]
  },
  {
   "cell_type": "code",
   "execution_count": 211,
   "metadata": {
    "dotnet_interactive": {
     "language": "csharp"
    },
    "polyglot_notebook": {
     "kernelName": "csharp"
    },
    "vscode": {
     "languageId": "polyglot-notebook"
    }
   },
   "outputs": [],
   "source": [
    "ISKFunction[] pipeline = new ISKFunction[]\n",
    "{\n",
    "    funnyCatsStoryFunction,\n",
    "    translateStoryFunction,\n",
    "};\n",
    "\n",
    "// var pipelineResult = await kernel.RunAsync(context.Variables, pipeline);\n",
    "\n",
    "// Console.WriteLine($\"RESULT: {string.Join(\"\\n\", pipelineResult.FunctionResults.Select(_ => _.GetValue<string>()))}\");"
   ]
  },
  {
   "cell_type": "markdown",
   "metadata": {},
   "source": [
    "# 2.2 🚀 Using Built-in Native Semantic Kernel Plugins: Loading Functions\n",
    "\n",
    "The SK provides a set of built-in native plugins that offer powerful functionality for code analysis and manipulation. Loading functions from these plugins allows you to leverage their capabilities seamlessly within your code. Follow the steps below to harness the features of built-in native SK plugins.\n"
   ]
  },
  {
   "cell_type": "code",
   "execution_count": 237,
   "metadata": {
    "dotnet_interactive": {
     "language": "csharp"
    },
    "polyglot_notebook": {
     "kernelName": "csharp"
    },
    "vscode": {
     "languageId": "polyglot-notebook"
    }
   },
   "outputs": [
    {
     "name": "stdout",
     "output_type": "stream",
     "text": [
      "Wednesday, August 30, 2023\r\n"
     ]
    }
   ],
   "source": [
    "using Microsoft.SemanticKernel.Plugins.Core;\n",
    "\n",
    "var functions = kernel.ImportFunctions(new TimePlugin(), \"time\");\n",
    "\n",
    "context.Variables[\"input\"] = \"100\";\n",
    "\n",
    "var result = await kernel.RunAsync(context.Variables, functions[\"daysAgo\"]);\n",
    "\n",
    "Console.WriteLine(result);"
   ]
  },
  {
   "cell_type": "code",
   "execution_count": 213,
   "metadata": {
    "dotnet_interactive": {
     "language": "csharp"
    },
    "polyglot_notebook": {
     "kernelName": "csharp"
    },
    "vscode": {
     "languageId": "polyglot-notebook"
    }
   },
   "outputs": [],
   "source": [
    "// Using plugins from the repo\n",
    "using Microsoft.SemanticKernel.AI.ChatCompletion;\n",
    "\n",
    "var currentDirectory = System.IO.Directory.GetCurrentDirectory();\n",
    "var pluginsDirectory = Path.Combine(currentDirectory, \"Plugins\");\n",
    "\n",
    "var summarizePluginFunctions = kernel.ImportSemanticFunctionsFromDirectory(pluginsDirectory, \"SummarizePlugin\");"
   ]
  },
  {
   "cell_type": "code",
   "execution_count": 214,
   "metadata": {
    "dotnet_interactive": {
     "language": "csharp"
    },
    "polyglot_notebook": {
     "kernelName": "csharp"
    },
    "vscode": {
     "languageId": "polyglot-notebook"
    }
   },
   "outputs": [
    {
     "name": "stdout",
     "output_type": "stream",
     "text": [
      "Microsoft has released an open-source SDK called Semantic Kernel that allows developers to orchestrate AI plugins and create new experiences for users. The SDK provides connectors that make it easy to add memories and models, and plugins that allow interaction with the real world. Semantic Kernel can orchestrate AI plugins from any provider, and can be used to create sophisticated pipelines that automate complex tasks for users. The SDK is designed to support enterprise app developers who want to integrate AI into their existing apps.\r\n"
     ]
    }
   ],
   "source": [
    "var sourceText = File.ReadAllText(Path.Combine(currentDirectory, \"Plugins/SummarizePlugin/Summarize/source.txt\"));\n",
    "var result = await kernel.RunAsync(sourceText, summarizePluginFunctions[\"Summarize\"]);\n",
    "var resultString = result.GetValue<string>();\n",
    "\n",
    "Console.WriteLine(resultString);"
   ]
  }
 ],
 "metadata": {
  "kernelspec": {
   "display_name": "Python 3",
   "language": "python",
   "name": "python3"
  },
  "language_info": {
   "name": "python",
   "version": "3.12.0"
  },
  "polyglot_notebook": {
   "kernelInfo": {
    "defaultKernelName": "csharp",
    "items": [
     {
      "aliases": [],
      "name": "csharp"
     }
    ]
   }
  }
 },
 "nbformat": 4,
 "nbformat_minor": 2
}
