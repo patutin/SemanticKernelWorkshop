{
 "cells": [
  {
   "cell_type": "code",
   "execution_count": 33,
   "metadata": {
    "dotnet_interactive": {
     "language": "csharp"
    },
    "polyglot_notebook": {
     "kernelName": "csharp"
    }
   },
   "outputs": [],
   "source": [
    "#!import config/Settings.cs"
   ]
  },
  {
   "cell_type": "code",
   "execution_count": 34,
   "metadata": {
    "dotnet_interactive": {
     "language": "csharp"
    },
    "polyglot_notebook": {
     "kernelName": "csharp"
    }
   },
   "outputs": [
    {
     "data": {
      "text/html": [
       "<div><div></div><div></div><div><strong>Installed Packages</strong><ul><li><span>Microsoft.SemanticKernel, 1.0.0-beta6</span></li></ul></div></div>"
      ]
     },
     "metadata": {},
     "output_type": "display_data"
    }
   ],
   "source": [
    "// Import Semantic Kernel\n",
    "#r \"nuget: Microsoft.SemanticKernel, 1.0.0-beta6\""
   ]
  },
  {
   "cell_type": "code",
   "execution_count": 35,
   "metadata": {
    "dotnet_interactive": {
     "language": "csharp"
    },
    "polyglot_notebook": {
     "kernelName": "csharp"
    }
   },
   "outputs": [],
   "source": [
    "using Microsoft.SemanticKernel;\n",
    "\n",
    "var builder = new KernelBuilder();"
   ]
  },
  {
   "cell_type": "code",
   "execution_count": 36,
   "metadata": {
    "dotnet_interactive": {
     "language": "csharp"
    },
    "polyglot_notebook": {
     "kernelName": "csharp"
    }
   },
   "outputs": [],
   "source": [
    "using Kernel = Microsoft.SemanticKernel.Kernel;\n",
    "\n",
    "var (model, apiKey, orgId) = Settings.LoadFromFile();\n",
    "\n",
    "builder.WithOpenAIChatCompletionService(model, apiKey, orgId);\n",
    "\n",
    "var kernel = builder.Build();"
   ]
  },
  {
   "cell_type": "code",
   "execution_count": 41,
   "metadata": {
    "dotnet_interactive": {
     "language": "csharp"
    },
    "polyglot_notebook": {
     "kernelName": "csharp"
    }
   },
   "outputs": [],
   "source": [
    "using Microsoft.SemanticKernel.AI.ChatCompletion;\n",
    "\n",
    "// Get AI service instance used to manage the user chat\n",
    "var chatGPT = kernel.GetService<IChatCompletion>();\n",
    "\n",
    "var currentDirectory = System.IO.Directory.GetCurrentDirectory();\n",
    "\n",
    "// note: using plugins from the repo\n",
    "var pluginsDirectory = Path.Combine(currentDirectory, \"Plugins\");\n",
    "\n",
    "var summarizePluginFunctions = kernel.ImportSemanticFunctionsFromDirectory(pluginsDirectory, \"SummarizePlugin\");"
   ]
  },
  {
   "cell_type": "code",
   "execution_count": 46,
   "metadata": {
    "dotnet_interactive": {
     "language": "csharp"
    },
    "polyglot_notebook": {
     "kernelName": "csharp"
    }
   },
   "outputs": [
    {
     "name": "stdout",
     "output_type": "stream",
     "text": [
      "Microsoft's Copilot system utilizes a stack of AI models and plugins, with an AI orchestration layer at its core. To assist developers in building their own Copilot experiences, Microsoft has released Semantic Kernel, an open-source SDK that allows for the orchestration of AI plugins. Semantic Kernel enables the integration of AI services into existing applications, providing connectors for adding memories and models. It also facilitates the addition of skills through AI plugins, which can interact with the real world. Semantic Kernel can orchestrate AI plugins from various providers, such as OpenAI and Microsoft. The SDK simplifies the creation of AI apps by abstracting the APIs of different services and allowing for the combination of components. By utilizing Semantic Kernel, developers can create sophisticated pipelines that automate complex tasks for users.\r\n"
     ]
    }
   ],
   "source": [
    "var sourceText = File.ReadAllText(Path.Combine(currentDirectory, \"Plugins/SummarizePlugin/Summarize/source.txt\"));\n",
    "var result = await kernel.RunAsync(sourceText, summarizePluginFunctions[\"Summarize\"]);\n",
    "var resultString = result.GetValue<string>();\n",
    "\n",
    "Console.WriteLine(resultString);"
   ]
  }
 ],
 "metadata": {
  "kernelspec": {
   "display_name": ".NET (C#)",
   "language": "C#",
   "name": ".net-csharp"
  },
  "language_info": {
   "name": "polyglot-notebook"
  },
  "polyglot_notebook": {
   "kernelInfo": {
    "defaultKernelName": "csharp",
    "items": [
     {
      "aliases": [],
      "name": "csharp"
     }
    ]
   }
  }
 },
 "nbformat": 4,
 "nbformat_minor": 2
}
