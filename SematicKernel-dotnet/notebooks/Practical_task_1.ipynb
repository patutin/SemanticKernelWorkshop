{
 "cells": [
  {
   "cell_type": "code",
   "execution_count": 1,
   "metadata": {
    "dotnet_interactive": {
     "language": "csharp"
    },
    "polyglot_notebook": {
     "kernelName": "csharp"
    }
   },
   "outputs": [],
   "source": [
    "#!import config/Settings.cs"
   ]
  },
  {
   "cell_type": "code",
   "execution_count": 2,
   "metadata": {
    "dotnet_interactive": {
     "language": "csharp"
    },
    "polyglot_notebook": {
     "kernelName": "csharp"
    }
   },
   "outputs": [
    {
     "data": {
      "text/html": [
       "<div><div></div><div></div><div><strong>Installed Packages</strong><ul><li><span>Microsoft.SemanticKernel, 1.0.0-beta6</span></li></ul></div></div>"
      ]
     },
     "metadata": {},
     "output_type": "display_data"
    }
   ],
   "source": [
    "// Import Semantic Kernel\n",
    "#r \"nuget: Microsoft.SemanticKernel, 1.0.0-beta6\""
   ]
  },
  {
   "cell_type": "code",
   "execution_count": 3,
   "metadata": {
    "dotnet_interactive": {
     "language": "csharp"
    },
    "polyglot_notebook": {
     "kernelName": "csharp"
    }
   },
   "outputs": [],
   "source": [
    "using Microsoft.SemanticKernel;\n",
    "\n",
    "var builder = new KernelBuilder();"
   ]
  },
  {
   "cell_type": "code",
   "execution_count": 4,
   "metadata": {
    "dotnet_interactive": {
     "language": "csharp"
    },
    "polyglot_notebook": {
     "kernelName": "csharp"
    }
   },
   "outputs": [],
   "source": [
    "using Kernel = Microsoft.SemanticKernel.Kernel;\n",
    "\n",
    "var (model, azureEndpoint, apiKey, orgId) = Settings.LoadFromFile();\n",
    "var deploymentName = \"practical-task-azure-ai\";\n",
    "\n",
    "builder.WithAzureOpenAIChatCompletionService(deploymentName, azureEndpoint, apiKey);\n",
    "\n",
    "var kernel = builder.Build();"
   ]
  },
  {
   "cell_type": "code",
   "execution_count": 5,
   "metadata": {
    "dotnet_interactive": {
     "language": "csharp"
    },
    "polyglot_notebook": {
     "kernelName": "csharp"
    }
   },
   "outputs": [],
   "source": [
    "using Microsoft.SemanticKernel.TemplateEngine;\n",
    "using Microsoft.SemanticKernel.TemplateEngine.Basic;\n",
    "using Microsoft.SemanticKernel.Orchestration;\n",
    "using Microsoft.SemanticKernel.Connectors.AI.OpenAI;\n",
    "\n",
    "var aiRequestSettings = new OpenAIRequestSettings \n",
    "{\n",
    "    MaxTokens = 500,\n",
    "    Temperature = 0.2,\n",
    "    TopP = 0.0\n",
    "};"
   ]
  },
  {
   "cell_type": "code",
   "execution_count": 6,
   "metadata": {
    "dotnet_interactive": {
     "language": "csharp"
    },
    "polyglot_notebook": {
     "kernelName": "csharp"
    }
   },
   "outputs": [],
   "source": [
    "var input = \"I want to find top-10 books about world history\";"
   ]
  },
  {
   "cell_type": "code",
   "execution_count": 7,
   "metadata": {
    "dotnet_interactive": {
     "language": "csharp"
    },
    "polyglot_notebook": {
     "kernelName": "csharp"
    }
   },
   "outputs": [
    {
     "ename": "Error",
     "evalue": "Microsoft.SemanticKernel.Diagnostics.HttpOperationException: Service request failed.\r\nStatus: 403 (Forbidden)\r\n\r\nHeaders:\r\nDate: Thu, 07 Dec 2023 13:31:50 GMT\r\nConnection: keep-alive\r\nStrict-Transport-Security: REDACTED\r\nContent-Length: 20\r\n\r\n ---> Azure.RequestFailedException: Service request failed.\r\nStatus: 403 (Forbidden)\r\n\r\nHeaders:\r\nDate: Thu, 07 Dec 2023 13:31:50 GMT\r\nConnection: keep-alive\r\nStrict-Transport-Security: REDACTED\r\nContent-Length: 20\r\n\r\n   at Azure.Core.HttpPipelineExtensions.ProcessMessageAsync(HttpPipeline pipeline, HttpMessage message, RequestContext requestContext, CancellationToken cancellationToken)\r\n   at Azure.AI.OpenAI.OpenAIClient.GetChatCompletionsAsync(String deploymentOrModelName, ChatCompletionsOptions chatCompletionsOptions, CancellationToken cancellationToken)\r\n   at Microsoft.SemanticKernel.Connectors.AI.OpenAI.AzureSdk.ClientBase.RunRequestAsync[T](Func`1 request)\r\n   --- End of inner exception stack trace ---\r\n   at Microsoft.SemanticKernel.Connectors.AI.OpenAI.AzureSdk.ClientBase.RunRequestAsync[T](Func`1 request)\r\n   at Microsoft.SemanticKernel.Connectors.AI.OpenAI.AzureSdk.ClientBase.InternalGetChatResultsAsync(ChatHistory chat, AIRequestSettings requestSettings, CancellationToken cancellationToken)\r\n   at Microsoft.SemanticKernel.Connectors.AI.OpenAI.AzureSdk.ClientBase.InternalGetChatResultsAsTextAsync(String text, AIRequestSettings requestSettings, CancellationToken cancellationToken)\r\n   at Microsoft.SemanticKernel.SemanticFunction.RunPromptAsync(AIRequestSettings requestSettings, SKContext context, CancellationToken cancellationToken)\r\n   at Microsoft.SemanticKernel.SemanticFunction.InvokeAsync(SKContext context, AIRequestSettings requestSettings, CancellationToken cancellationToken)\r\n   at Microsoft.SemanticKernel.Kernel.RunAsync(ContextVariables variables, CancellationToken cancellationToken, ISKFunction[] pipeline)\r\n   at Submission#8.<<Initialize>>d__0.MoveNext()\r\n--- End of stack trace from previous location ---\r\n   at Microsoft.CodeAnalysis.Scripting.ScriptExecutionState.RunSubmissionsAsync[TResult](ImmutableArray`1 precedingExecutors, Func`2 currentExecutor, StrongBox`1 exceptionHolderOpt, Func`2 catchExceptionOpt, CancellationToken cancellationToken)",
     "output_type": "error",
     "traceback": [
      "Microsoft.SemanticKernel.Diagnostics.HttpOperationException: Service request failed.\r\n",
      "Status: 403 (Forbidden)\r\n",
      "\r\n",
      "Headers:\r\n",
      "Date: Thu, 07 Dec 2023 13:31:50 GMT\r\n",
      "Connection: keep-alive\r\n",
      "Strict-Transport-Security: REDACTED\r\n",
      "Content-Length: 20\r\n",
      "\r\n",
      " ---> Azure.RequestFailedException: Service request failed.\r\n",
      "Status: 403 (Forbidden)\r\n",
      "\r\n",
      "Headers:\r\n",
      "Date: Thu, 07 Dec 2023 13:31:50 GMT\r\n",
      "Connection: keep-alive\r\n",
      "Strict-Transport-Security: REDACTED\r\n",
      "Content-Length: 20\r\n",
      "\r\n",
      "   at Azure.Core.HttpPipelineExtensions.ProcessMessageAsync(HttpPipeline pipeline, HttpMessage message, RequestContext requestContext, CancellationToken cancellationToken)\r\n",
      "   at Azure.AI.OpenAI.OpenAIClient.GetChatCompletionsAsync(String deploymentOrModelName, ChatCompletionsOptions chatCompletionsOptions, CancellationToken cancellationToken)\r\n",
      "   at Microsoft.SemanticKernel.Connectors.AI.OpenAI.AzureSdk.ClientBase.RunRequestAsync[T](Func`1 request)\r\n",
      "   --- End of inner exception stack trace ---\r\n",
      "   at Microsoft.SemanticKernel.Connectors.AI.OpenAI.AzureSdk.ClientBase.RunRequestAsync[T](Func`1 request)\r\n",
      "   at Microsoft.SemanticKernel.Connectors.AI.OpenAI.AzureSdk.ClientBase.InternalGetChatResultsAsync(ChatHistory chat, AIRequestSettings requestSettings, CancellationToken cancellationToken)\r\n",
      "   at Microsoft.SemanticKernel.Connectors.AI.OpenAI.AzureSdk.ClientBase.InternalGetChatResultsAsTextAsync(String text, AIRequestSettings requestSettings, CancellationToken cancellationToken)\r\n",
      "   at Microsoft.SemanticKernel.SemanticFunction.RunPromptAsync(AIRequestSettings requestSettings, SKContext context, CancellationToken cancellationToken)\r\n",
      "   at Microsoft.SemanticKernel.SemanticFunction.InvokeAsync(SKContext context, AIRequestSettings requestSettings, CancellationToken cancellationToken)\r\n",
      "   at Microsoft.SemanticKernel.Kernel.RunAsync(ContextVariables variables, CancellationToken cancellationToken, ISKFunction[] pipeline)\r\n",
      "   at Submission#8.<<Initialize>>d__0.MoveNext()\r\n",
      "--- End of stack trace from previous location ---\r\n",
      "   at Microsoft.CodeAnalysis.Scripting.ScriptExecutionState.RunSubmissionsAsync[TResult](ImmutableArray`1 precedingExecutors, Func`2 currentExecutor, StrongBox`1 exceptionHolderOpt, Func`2 catchExceptionOpt, CancellationToken cancellationToken)"
     ]
    }
   ],
   "source": [
    "// Chat with the Bot\n",
    "// Create a simple prompt for the semantic function\n",
    "\n",
    "string skPrompt = @\"ChatBot: How can I help you?\n",
    "User: {{$input}}\n",
    "\n",
    "---------------------------------------------\n",
    "\n",
    "The intent of the user in 25 words or less: \";\n",
    "\n",
    "var getShortIntentFunction  = kernel.CreateSemanticFunction(skPrompt, aiRequestSettings, \"GetRecipe\");\n",
    "\n",
    "var intentResult = await kernel.RunAsync(input, getShortIntentFunction);\n",
    "\n",
    "Console.WriteLine(intentResult);"
   ]
  },
  {
   "cell_type": "code",
   "execution_count": 8,
   "metadata": {
    "dotnet_interactive": {
     "language": "csharp"
    },
    "polyglot_notebook": {
     "kernelName": "csharp"
    }
   },
   "outputs": [],
   "source": [
    "skPrompt = @\"\n",
    "ChatBot can have a conversation with you about any topic.\n",
    "It can give detailed answer or say 'I don't know' if it does not have an answer.\n",
    "\n",
    "{{$history}}\n",
    "User: {{$userInput}}\n",
    "ChatBot:\";"
   ]
  },
  {
   "cell_type": "code",
   "execution_count": 9,
   "metadata": {
    "dotnet_interactive": {
     "language": "csharp"
    },
    "polyglot_notebook": {
     "kernelName": "csharp"
    }
   },
   "outputs": [
    {
     "ename": "Error",
     "evalue": "Microsoft.SemanticKernel.Diagnostics.HttpOperationException: Service request failed.\r\nStatus: 403 (Forbidden)\r\n\r\nHeaders:\r\nDate: Thu, 07 Dec 2023 13:31:50 GMT\r\nConnection: keep-alive\r\nStrict-Transport-Security: REDACTED\r\nContent-Length: 20\r\n\r\n ---> Azure.RequestFailedException: Service request failed.\r\nStatus: 403 (Forbidden)\r\n\r\nHeaders:\r\nDate: Thu, 07 Dec 2023 13:31:50 GMT\r\nConnection: keep-alive\r\nStrict-Transport-Security: REDACTED\r\nContent-Length: 20\r\n\r\n   at Azure.Core.HttpPipelineExtensions.ProcessMessageAsync(HttpPipeline pipeline, HttpMessage message, RequestContext requestContext, CancellationToken cancellationToken)\r\n   at Azure.AI.OpenAI.OpenAIClient.GetChatCompletionsAsync(String deploymentOrModelName, ChatCompletionsOptions chatCompletionsOptions, CancellationToken cancellationToken)\r\n   at Microsoft.SemanticKernel.Connectors.AI.OpenAI.AzureSdk.ClientBase.RunRequestAsync[T](Func`1 request)\r\n   --- End of inner exception stack trace ---\r\n   at Microsoft.SemanticKernel.Connectors.AI.OpenAI.AzureSdk.ClientBase.RunRequestAsync[T](Func`1 request)\r\n   at Microsoft.SemanticKernel.Connectors.AI.OpenAI.AzureSdk.ClientBase.InternalGetChatResultsAsync(ChatHistory chat, AIRequestSettings requestSettings, CancellationToken cancellationToken)\r\n   at Microsoft.SemanticKernel.Connectors.AI.OpenAI.AzureSdk.ClientBase.InternalGetChatResultsAsTextAsync(String text, AIRequestSettings requestSettings, CancellationToken cancellationToken)\r\n   at Microsoft.SemanticKernel.SemanticFunction.RunPromptAsync(AIRequestSettings requestSettings, SKContext context, CancellationToken cancellationToken)\r\n   at Microsoft.SemanticKernel.SemanticFunction.InvokeAsync(SKContext context, AIRequestSettings requestSettings, CancellationToken cancellationToken)\r\n   at Submission#10.<<Initialize>>d__0.MoveNext()\r\n--- End of stack trace from previous location ---\r\n   at Microsoft.CodeAnalysis.Scripting.ScriptExecutionState.RunSubmissionsAsync[TResult](ImmutableArray`1 precedingExecutors, Func`2 currentExecutor, StrongBox`1 exceptionHolderOpt, Func`2 catchExceptionOpt, CancellationToken cancellationToken)",
     "output_type": "error",
     "traceback": [
      "Microsoft.SemanticKernel.Diagnostics.HttpOperationException: Service request failed.\r\n",
      "Status: 403 (Forbidden)\r\n",
      "\r\n",
      "Headers:\r\n",
      "Date: Thu, 07 Dec 2023 13:31:50 GMT\r\n",
      "Connection: keep-alive\r\n",
      "Strict-Transport-Security: REDACTED\r\n",
      "Content-Length: 20\r\n",
      "\r\n",
      " ---> Azure.RequestFailedException: Service request failed.\r\n",
      "Status: 403 (Forbidden)\r\n",
      "\r\n",
      "Headers:\r\n",
      "Date: Thu, 07 Dec 2023 13:31:50 GMT\r\n",
      "Connection: keep-alive\r\n",
      "Strict-Transport-Security: REDACTED\r\n",
      "Content-Length: 20\r\n",
      "\r\n",
      "   at Azure.Core.HttpPipelineExtensions.ProcessMessageAsync(HttpPipeline pipeline, HttpMessage message, RequestContext requestContext, CancellationToken cancellationToken)\r\n",
      "   at Azure.AI.OpenAI.OpenAIClient.GetChatCompletionsAsync(String deploymentOrModelName, ChatCompletionsOptions chatCompletionsOptions, CancellationToken cancellationToken)\r\n",
      "   at Microsoft.SemanticKernel.Connectors.AI.OpenAI.AzureSdk.ClientBase.RunRequestAsync[T](Func`1 request)\r\n",
      "   --- End of inner exception stack trace ---\r\n",
      "   at Microsoft.SemanticKernel.Connectors.AI.OpenAI.AzureSdk.ClientBase.RunRequestAsync[T](Func`1 request)\r\n",
      "   at Microsoft.SemanticKernel.Connectors.AI.OpenAI.AzureSdk.ClientBase.InternalGetChatResultsAsync(ChatHistory chat, AIRequestSettings requestSettings, CancellationToken cancellationToken)\r\n",
      "   at Microsoft.SemanticKernel.Connectors.AI.OpenAI.AzureSdk.ClientBase.InternalGetChatResultsAsTextAsync(String text, AIRequestSettings requestSettings, CancellationToken cancellationToken)\r\n",
      "   at Microsoft.SemanticKernel.SemanticFunction.RunPromptAsync(AIRequestSettings requestSettings, SKContext context, CancellationToken cancellationToken)\r\n",
      "   at Microsoft.SemanticKernel.SemanticFunction.InvokeAsync(SKContext context, AIRequestSettings requestSettings, CancellationToken cancellationToken)\r\n",
      "   at Submission#10.<<Initialize>>d__0.MoveNext()\r\n",
      "--- End of stack trace from previous location ---\r\n",
      "   at Microsoft.CodeAnalysis.Scripting.ScriptExecutionState.RunSubmissionsAsync[TResult](ImmutableArray`1 precedingExecutors, Func`2 currentExecutor, StrongBox`1 exceptionHolderOpt, Func`2 catchExceptionOpt, CancellationToken cancellationToken)"
     ]
    }
   ],
   "source": [
    "// Chat with the Bot\n",
    "\n",
    "aiRequestSettings = new OpenAIRequestSettings\n",
    "{\n",
    "    MaxTokens = 2000,\n",
    "    Temperature = 0.7,\n",
    "    TopP = 0.5\n",
    "};\n",
    "\n",
    "var chatFunction = kernel.CreateSemanticFunction(skPrompt, aiRequestSettings);\n",
    "var context = kernel.CreateNewContext();\n",
    "\n",
    "var history = \"\";\n",
    "context.Variables[\"history\"] = history;\n",
    "\n",
    "var userInput = \"Hi, I'm looking for suggestions of best sellers about world history\";\n",
    "context.Variables[\"userInput\"] = userInput;\n",
    "\n",
    "var bot_answer = await chatFunction.InvokeAsync(context);"
   ]
  },
  {
   "cell_type": "code",
   "execution_count": 10,
   "metadata": {
    "dotnet_interactive": {
     "language": "csharp"
    },
    "polyglot_notebook": {
     "kernelName": "csharp"
    }
   },
   "outputs": [
    {
     "ename": "Error",
     "evalue": "System.NullReferenceException: Object reference not set to an instance of an object.\r\n   at Submission#11.<<Initialize>>d__0.MoveNext()\r\n--- End of stack trace from previous location ---\r\n   at Microsoft.CodeAnalysis.Scripting.ScriptExecutionState.RunSubmissionsAsync[TResult](ImmutableArray`1 precedingExecutors, Func`2 currentExecutor, StrongBox`1 exceptionHolderOpt, Func`2 catchExceptionOpt, CancellationToken cancellationToken)",
     "output_type": "error",
     "traceback": [
      "System.NullReferenceException: Object reference not set to an instance of an object.\r\n",
      "   at Submission#11.<<Initialize>>d__0.MoveNext()\r\n",
      "--- End of stack trace from previous location ---\r\n",
      "   at Microsoft.CodeAnalysis.Scripting.ScriptExecutionState.RunSubmissionsAsync[TResult](ImmutableArray`1 precedingExecutors, Func`2 currentExecutor, StrongBox`1 exceptionHolderOpt, Func`2 catchExceptionOpt, CancellationToken cancellationToken)"
     ]
    }
   ],
   "source": [
    "// Update the history with the output and set this as the new input value for the next request\n",
    "\n",
    "history += $\"\\nUser: {userInput}\\nSuggestions: {bot_answer.GetValue<string>()}\\n\";\n",
    "context.Variables.Update(history);\n",
    "\n",
    "Console.WriteLine(context);"
   ]
  },
  {
   "cell_type": "code",
   "execution_count": 11,
   "metadata": {
    "dotnet_interactive": {
     "language": "csharp"
    },
    "polyglot_notebook": {
     "kernelName": "csharp"
    }
   },
   "outputs": [],
   "source": [
    "// Chatting more)\n",
    "\n",
    "Func<string, Task> Chat = async (string input) => {\n",
    "    // Save new message in the context variables\n",
    "    context.Variables[\"userInput\"] = input;\n",
    "\n",
    "    // Process the user message and get an answer\n",
    "    var answer = await chatFunction.InvokeAsync(context);\n",
    "\n",
    "    // Append the new interaction to the chat history\n",
    "    history += $\"\\nUser: {input}\\nSuggestions: {answer.GetValue<string>()}\\n\"; \n",
    "    context.Variables[\"history\"] = history;\n",
    "    \n",
    "    // Show the response\n",
    "    Console.WriteLine(context);\n",
    "};"
   ]
  },
  {
   "cell_type": "code",
   "execution_count": 12,
   "metadata": {
    "dotnet_interactive": {
     "language": "csharp"
    },
    "polyglot_notebook": {
     "kernelName": "csharp"
    }
   },
   "outputs": [
    {
     "ename": "Error",
     "evalue": "Microsoft.SemanticKernel.Diagnostics.HttpOperationException: Service request failed.\r\nStatus: 403 (Forbidden)\r\n\r\nHeaders:\r\nDate: Thu, 07 Dec 2023 13:31:51 GMT\r\nConnection: keep-alive\r\nStrict-Transport-Security: REDACTED\r\nContent-Length: 20\r\n\r\n ---> Azure.RequestFailedException: Service request failed.\r\nStatus: 403 (Forbidden)\r\n\r\nHeaders:\r\nDate: Thu, 07 Dec 2023 13:31:51 GMT\r\nConnection: keep-alive\r\nStrict-Transport-Security: REDACTED\r\nContent-Length: 20\r\n\r\n   at Azure.Core.HttpPipelineExtensions.ProcessMessageAsync(HttpPipeline pipeline, HttpMessage message, RequestContext requestContext, CancellationToken cancellationToken)\r\n   at Azure.AI.OpenAI.OpenAIClient.GetChatCompletionsAsync(String deploymentOrModelName, ChatCompletionsOptions chatCompletionsOptions, CancellationToken cancellationToken)\r\n   at Microsoft.SemanticKernel.Connectors.AI.OpenAI.AzureSdk.ClientBase.RunRequestAsync[T](Func`1 request)\r\n   --- End of inner exception stack trace ---\r\n   at Microsoft.SemanticKernel.Connectors.AI.OpenAI.AzureSdk.ClientBase.RunRequestAsync[T](Func`1 request)\r\n   at Microsoft.SemanticKernel.Connectors.AI.OpenAI.AzureSdk.ClientBase.InternalGetChatResultsAsync(ChatHistory chat, AIRequestSettings requestSettings, CancellationToken cancellationToken)\r\n   at Microsoft.SemanticKernel.Connectors.AI.OpenAI.AzureSdk.ClientBase.InternalGetChatResultsAsTextAsync(String text, AIRequestSettings requestSettings, CancellationToken cancellationToken)\r\n   at Microsoft.SemanticKernel.SemanticFunction.RunPromptAsync(AIRequestSettings requestSettings, SKContext context, CancellationToken cancellationToken)\r\n   at Microsoft.SemanticKernel.SemanticFunction.InvokeAsync(SKContext context, AIRequestSettings requestSettings, CancellationToken cancellationToken)\r\n   at Submission#12.<<<Initialize>>b__0_0>d.MoveNext()\r\n--- End of stack trace from previous location ---\r\n   at Submission#13.<<Initialize>>d__0.MoveNext()\r\n--- End of stack trace from previous location ---\r\n   at Microsoft.CodeAnalysis.Scripting.ScriptExecutionState.RunSubmissionsAsync[TResult](ImmutableArray`1 precedingExecutors, Func`2 currentExecutor, StrongBox`1 exceptionHolderOpt, Func`2 catchExceptionOpt, CancellationToken cancellationToken)",
     "output_type": "error",
     "traceback": [
      "Microsoft.SemanticKernel.Diagnostics.HttpOperationException: Service request failed.\r\n",
      "Status: 403 (Forbidden)\r\n",
      "\r\n",
      "Headers:\r\n",
      "Date: Thu, 07 Dec 2023 13:31:51 GMT\r\n",
      "Connection: keep-alive\r\n",
      "Strict-Transport-Security: REDACTED\r\n",
      "Content-Length: 20\r\n",
      "\r\n",
      " ---> Azure.RequestFailedException: Service request failed.\r\n",
      "Status: 403 (Forbidden)\r\n",
      "\r\n",
      "Headers:\r\n",
      "Date: Thu, 07 Dec 2023 13:31:51 GMT\r\n",
      "Connection: keep-alive\r\n",
      "Strict-Transport-Security: REDACTED\r\n",
      "Content-Length: 20\r\n",
      "\r\n",
      "   at Azure.Core.HttpPipelineExtensions.ProcessMessageAsync(HttpPipeline pipeline, HttpMessage message, RequestContext requestContext, CancellationToken cancellationToken)\r\n",
      "   at Azure.AI.OpenAI.OpenAIClient.GetChatCompletionsAsync(String deploymentOrModelName, ChatCompletionsOptions chatCompletionsOptions, CancellationToken cancellationToken)\r\n",
      "   at Microsoft.SemanticKernel.Connectors.AI.OpenAI.AzureSdk.ClientBase.RunRequestAsync[T](Func`1 request)\r\n",
      "   --- End of inner exception stack trace ---\r\n",
      "   at Microsoft.SemanticKernel.Connectors.AI.OpenAI.AzureSdk.ClientBase.RunRequestAsync[T](Func`1 request)\r\n",
      "   at Microsoft.SemanticKernel.Connectors.AI.OpenAI.AzureSdk.ClientBase.InternalGetChatResultsAsync(ChatHistory chat, AIRequestSettings requestSettings, CancellationToken cancellationToken)\r\n",
      "   at Microsoft.SemanticKernel.Connectors.AI.OpenAI.AzureSdk.ClientBase.InternalGetChatResultsAsTextAsync(String text, AIRequestSettings requestSettings, CancellationToken cancellationToken)\r\n",
      "   at Microsoft.SemanticKernel.SemanticFunction.RunPromptAsync(AIRequestSettings requestSettings, SKContext context, CancellationToken cancellationToken)\r\n",
      "   at Microsoft.SemanticKernel.SemanticFunction.InvokeAsync(SKContext context, AIRequestSettings requestSettings, CancellationToken cancellationToken)\r\n",
      "   at Submission#12.<<<Initialize>>b__0_0>d.MoveNext()\r\n",
      "--- End of stack trace from previous location ---\r\n",
      "   at Submission#13.<<Initialize>>d__0.MoveNext()\r\n",
      "--- End of stack trace from previous location ---\r\n",
      "   at Microsoft.CodeAnalysis.Scripting.ScriptExecutionState.RunSubmissionsAsync[TResult](ImmutableArray`1 precedingExecutors, Func`2 currentExecutor, StrongBox`1 exceptionHolderOpt, Func`2 catchExceptionOpt, CancellationToken cancellationToken)"
     ]
    }
   ],
   "source": [
    "await Chat(\"I would like a non-fiction book suggestion about Greece history. Please only list one book.\");"
   ]
  },
  {
   "cell_type": "code",
   "execution_count": 13,
   "metadata": {
    "dotnet_interactive": {
     "language": "csharp"
    },
    "polyglot_notebook": {
     "kernelName": "csharp"
    }
   },
   "outputs": [
    {
     "ename": "Error",
     "evalue": "Microsoft.SemanticKernel.Diagnostics.HttpOperationException: Service request failed.\r\nStatus: 403 (Forbidden)\r\n\r\nHeaders:\r\nDate: Thu, 07 Dec 2023 13:31:51 GMT\r\nConnection: keep-alive\r\nStrict-Transport-Security: REDACTED\r\nContent-Length: 20\r\n\r\n ---> Azure.RequestFailedException: Service request failed.\r\nStatus: 403 (Forbidden)\r\n\r\nHeaders:\r\nDate: Thu, 07 Dec 2023 13:31:51 GMT\r\nConnection: keep-alive\r\nStrict-Transport-Security: REDACTED\r\nContent-Length: 20\r\n\r\n   at Azure.Core.HttpPipelineExtensions.ProcessMessageAsync(HttpPipeline pipeline, HttpMessage message, RequestContext requestContext, CancellationToken cancellationToken)\r\n   at Azure.AI.OpenAI.OpenAIClient.GetChatCompletionsAsync(String deploymentOrModelName, ChatCompletionsOptions chatCompletionsOptions, CancellationToken cancellationToken)\r\n   at Microsoft.SemanticKernel.Connectors.AI.OpenAI.AzureSdk.ClientBase.RunRequestAsync[T](Func`1 request)\r\n   --- End of inner exception stack trace ---\r\n   at Microsoft.SemanticKernel.Connectors.AI.OpenAI.AzureSdk.ClientBase.RunRequestAsync[T](Func`1 request)\r\n   at Microsoft.SemanticKernel.Connectors.AI.OpenAI.AzureSdk.ClientBase.InternalGetChatResultsAsync(ChatHistory chat, AIRequestSettings requestSettings, CancellationToken cancellationToken)\r\n   at Microsoft.SemanticKernel.Connectors.AI.OpenAI.AzureSdk.ClientBase.InternalGetChatResultsAsTextAsync(String text, AIRequestSettings requestSettings, CancellationToken cancellationToken)\r\n   at Microsoft.SemanticKernel.SemanticFunction.RunPromptAsync(AIRequestSettings requestSettings, SKContext context, CancellationToken cancellationToken)\r\n   at Microsoft.SemanticKernel.SemanticFunction.InvokeAsync(SKContext context, AIRequestSettings requestSettings, CancellationToken cancellationToken)\r\n   at Submission#12.<<<Initialize>>b__0_0>d.MoveNext()\r\n--- End of stack trace from previous location ---\r\n   at Submission#14.<<Initialize>>d__0.MoveNext()\r\n--- End of stack trace from previous location ---\r\n   at Microsoft.CodeAnalysis.Scripting.ScriptExecutionState.RunSubmissionsAsync[TResult](ImmutableArray`1 precedingExecutors, Func`2 currentExecutor, StrongBox`1 exceptionHolderOpt, Func`2 catchExceptionOpt, CancellationToken cancellationToken)",
     "output_type": "error",
     "traceback": [
      "Microsoft.SemanticKernel.Diagnostics.HttpOperationException: Service request failed.\r\n",
      "Status: 403 (Forbidden)\r\n",
      "\r\n",
      "Headers:\r\n",
      "Date: Thu, 07 Dec 2023 13:31:51 GMT\r\n",
      "Connection: keep-alive\r\n",
      "Strict-Transport-Security: REDACTED\r\n",
      "Content-Length: 20\r\n",
      "\r\n",
      " ---> Azure.RequestFailedException: Service request failed.\r\n",
      "Status: 403 (Forbidden)\r\n",
      "\r\n",
      "Headers:\r\n",
      "Date: Thu, 07 Dec 2023 13:31:51 GMT\r\n",
      "Connection: keep-alive\r\n",
      "Strict-Transport-Security: REDACTED\r\n",
      "Content-Length: 20\r\n",
      "\r\n",
      "   at Azure.Core.HttpPipelineExtensions.ProcessMessageAsync(HttpPipeline pipeline, HttpMessage message, RequestContext requestContext, CancellationToken cancellationToken)\r\n",
      "   at Azure.AI.OpenAI.OpenAIClient.GetChatCompletionsAsync(String deploymentOrModelName, ChatCompletionsOptions chatCompletionsOptions, CancellationToken cancellationToken)\r\n",
      "   at Microsoft.SemanticKernel.Connectors.AI.OpenAI.AzureSdk.ClientBase.RunRequestAsync[T](Func`1 request)\r\n",
      "   --- End of inner exception stack trace ---\r\n",
      "   at Microsoft.SemanticKernel.Connectors.AI.OpenAI.AzureSdk.ClientBase.RunRequestAsync[T](Func`1 request)\r\n",
      "   at Microsoft.SemanticKernel.Connectors.AI.OpenAI.AzureSdk.ClientBase.InternalGetChatResultsAsync(ChatHistory chat, AIRequestSettings requestSettings, CancellationToken cancellationToken)\r\n",
      "   at Microsoft.SemanticKernel.Connectors.AI.OpenAI.AzureSdk.ClientBase.InternalGetChatResultsAsTextAsync(String text, AIRequestSettings requestSettings, CancellationToken cancellationToken)\r\n",
      "   at Microsoft.SemanticKernel.SemanticFunction.RunPromptAsync(AIRequestSettings requestSettings, SKContext context, CancellationToken cancellationToken)\r\n",
      "   at Microsoft.SemanticKernel.SemanticFunction.InvokeAsync(SKContext context, AIRequestSettings requestSettings, CancellationToken cancellationToken)\r\n",
      "   at Submission#12.<<<Initialize>>b__0_0>d.MoveNext()\r\n",
      "--- End of stack trace from previous location ---\r\n",
      "   at Submission#14.<<Initialize>>d__0.MoveNext()\r\n",
      "--- End of stack trace from previous location ---\r\n",
      "   at Microsoft.CodeAnalysis.Scripting.ScriptExecutionState.RunSubmissionsAsync[TResult](ImmutableArray`1 precedingExecutors, Func`2 currentExecutor, StrongBox`1 exceptionHolderOpt, Func`2 catchExceptionOpt, CancellationToken cancellationToken)"
     ]
    }
   ],
   "source": [
    "await Chat(\"that sounds interesting, what are some of the topics I will learn about?\");"
   ]
  },
  {
   "cell_type": "code",
   "execution_count": 14,
   "metadata": {
    "dotnet_interactive": {
     "language": "csharp"
    },
    "polyglot_notebook": {
     "kernelName": "csharp"
    }
   },
   "outputs": [
    {
     "ename": "Error",
     "evalue": "Microsoft.SemanticKernel.Diagnostics.HttpOperationException: Service request failed.\r\nStatus: 403 (Forbidden)\r\n\r\nHeaders:\r\nDate: Thu, 07 Dec 2023 13:31:51 GMT\r\nConnection: keep-alive\r\nStrict-Transport-Security: REDACTED\r\nContent-Length: 20\r\n\r\n ---> Azure.RequestFailedException: Service request failed.\r\nStatus: 403 (Forbidden)\r\n\r\nHeaders:\r\nDate: Thu, 07 Dec 2023 13:31:51 GMT\r\nConnection: keep-alive\r\nStrict-Transport-Security: REDACTED\r\nContent-Length: 20\r\n\r\n   at Azure.Core.HttpPipelineExtensions.ProcessMessageAsync(HttpPipeline pipeline, HttpMessage message, RequestContext requestContext, CancellationToken cancellationToken)\r\n   at Azure.AI.OpenAI.OpenAIClient.GetChatCompletionsAsync(String deploymentOrModelName, ChatCompletionsOptions chatCompletionsOptions, CancellationToken cancellationToken)\r\n   at Microsoft.SemanticKernel.Connectors.AI.OpenAI.AzureSdk.ClientBase.RunRequestAsync[T](Func`1 request)\r\n   --- End of inner exception stack trace ---\r\n   at Microsoft.SemanticKernel.Connectors.AI.OpenAI.AzureSdk.ClientBase.RunRequestAsync[T](Func`1 request)\r\n   at Microsoft.SemanticKernel.Connectors.AI.OpenAI.AzureSdk.ClientBase.InternalGetChatResultsAsync(ChatHistory chat, AIRequestSettings requestSettings, CancellationToken cancellationToken)\r\n   at Microsoft.SemanticKernel.Connectors.AI.OpenAI.AzureSdk.ClientBase.InternalGetChatResultsAsTextAsync(String text, AIRequestSettings requestSettings, CancellationToken cancellationToken)\r\n   at Microsoft.SemanticKernel.SemanticFunction.RunPromptAsync(AIRequestSettings requestSettings, SKContext context, CancellationToken cancellationToken)\r\n   at Microsoft.SemanticKernel.SemanticFunction.InvokeAsync(SKContext context, AIRequestSettings requestSettings, CancellationToken cancellationToken)\r\n   at Submission#12.<<<Initialize>>b__0_0>d.MoveNext()\r\n--- End of stack trace from previous location ---\r\n   at Submission#15.<<Initialize>>d__0.MoveNext()\r\n--- End of stack trace from previous location ---\r\n   at Microsoft.CodeAnalysis.Scripting.ScriptExecutionState.RunSubmissionsAsync[TResult](ImmutableArray`1 precedingExecutors, Func`2 currentExecutor, StrongBox`1 exceptionHolderOpt, Func`2 catchExceptionOpt, CancellationToken cancellationToken)",
     "output_type": "error",
     "traceback": [
      "Microsoft.SemanticKernel.Diagnostics.HttpOperationException: Service request failed.\r\n",
      "Status: 403 (Forbidden)\r\n",
      "\r\n",
      "Headers:\r\n",
      "Date: Thu, 07 Dec 2023 13:31:51 GMT\r\n",
      "Connection: keep-alive\r\n",
      "Strict-Transport-Security: REDACTED\r\n",
      "Content-Length: 20\r\n",
      "\r\n",
      " ---> Azure.RequestFailedException: Service request failed.\r\n",
      "Status: 403 (Forbidden)\r\n",
      "\r\n",
      "Headers:\r\n",
      "Date: Thu, 07 Dec 2023 13:31:51 GMT\r\n",
      "Connection: keep-alive\r\n",
      "Strict-Transport-Security: REDACTED\r\n",
      "Content-Length: 20\r\n",
      "\r\n",
      "   at Azure.Core.HttpPipelineExtensions.ProcessMessageAsync(HttpPipeline pipeline, HttpMessage message, RequestContext requestContext, CancellationToken cancellationToken)\r\n",
      "   at Azure.AI.OpenAI.OpenAIClient.GetChatCompletionsAsync(String deploymentOrModelName, ChatCompletionsOptions chatCompletionsOptions, CancellationToken cancellationToken)\r\n",
      "   at Microsoft.SemanticKernel.Connectors.AI.OpenAI.AzureSdk.ClientBase.RunRequestAsync[T](Func`1 request)\r\n",
      "   --- End of inner exception stack trace ---\r\n",
      "   at Microsoft.SemanticKernel.Connectors.AI.OpenAI.AzureSdk.ClientBase.RunRequestAsync[T](Func`1 request)\r\n",
      "   at Microsoft.SemanticKernel.Connectors.AI.OpenAI.AzureSdk.ClientBase.InternalGetChatResultsAsync(ChatHistory chat, AIRequestSettings requestSettings, CancellationToken cancellationToken)\r\n",
      "   at Microsoft.SemanticKernel.Connectors.AI.OpenAI.AzureSdk.ClientBase.InternalGetChatResultsAsTextAsync(String text, AIRequestSettings requestSettings, CancellationToken cancellationToken)\r\n",
      "   at Microsoft.SemanticKernel.SemanticFunction.RunPromptAsync(AIRequestSettings requestSettings, SKContext context, CancellationToken cancellationToken)\r\n",
      "   at Microsoft.SemanticKernel.SemanticFunction.InvokeAsync(SKContext context, AIRequestSettings requestSettings, CancellationToken cancellationToken)\r\n",
      "   at Submission#12.<<<Initialize>>b__0_0>d.MoveNext()\r\n",
      "--- End of stack trace from previous location ---\r\n",
      "   at Submission#15.<<Initialize>>d__0.MoveNext()\r\n",
      "--- End of stack trace from previous location ---\r\n",
      "   at Microsoft.CodeAnalysis.Scripting.ScriptExecutionState.RunSubmissionsAsync[TResult](ImmutableArray`1 precedingExecutors, Func`2 currentExecutor, StrongBox`1 exceptionHolderOpt, Func`2 catchExceptionOpt, CancellationToken cancellationToken)"
     ]
    }
   ],
   "source": [
    "await Chat(\"Which topic from the ones you listed do you think the most popular?\");"
   ]
  },
  {
   "cell_type": "code",
   "execution_count": 15,
   "metadata": {
    "dotnet_interactive": {
     "language": "csharp"
    },
    "polyglot_notebook": {
     "kernelName": "csharp"
    }
   },
   "outputs": [
    {
     "name": "stdout",
     "output_type": "stream",
     "text": [
      "\r\n"
     ]
    }
   ],
   "source": [
    "Console.WriteLine(context.Variables[\"history\"]);"
   ]
  },
  {
   "cell_type": "code",
   "execution_count": 16,
   "metadata": {
    "dotnet_interactive": {
     "language": "csharp"
    },
    "polyglot_notebook": {
     "kernelName": "csharp"
    }
   },
   "outputs": [
    {
     "name": "stdout",
     "output_type": "stream",
     "text": [
      "Which topic from the ones you listed do you think the most popular?\r\n"
     ]
    }
   ],
   "source": [
    "Console.WriteLine(context.Variables[\"userInput\"]);"
   ]
  }
 ],
 "metadata": {
  "kernelspec": {
   "display_name": ".NET (C#)",
   "language": "C#",
   "name": ".net-csharp"
  },
  "language_info": {
   "name": "polyglot-notebook"
  },
  "polyglot_notebook": {
   "kernelInfo": {
    "defaultKernelName": "csharp",
    "items": [
     {
      "aliases": [],
      "name": "csharp"
     }
    ]
   }
  }
 },
 "nbformat": 4,
 "nbformat_minor": 2
}
