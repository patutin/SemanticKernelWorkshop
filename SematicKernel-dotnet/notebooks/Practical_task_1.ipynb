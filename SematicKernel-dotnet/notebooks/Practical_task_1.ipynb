{
 "cells": [
  {
   "cell_type": "markdown",
   "metadata": {},
   "source": [
    "# 1.1 🚀 Initialization and Configuration\n",
    "\n",
    "* In this section, necessary libraries are imported, and the Semantic Kernel is configured with Azure OpenAI credentials loaded from a configuration file."
   ]
  },
  {
   "cell_type": "code",
   "execution_count": 84,
   "metadata": {
    "dotnet_interactive": {
     "language": "csharp"
    },
    "polyglot_notebook": {
     "kernelName": "csharp"
    },
    "vscode": {
     "languageId": "polyglot-notebook"
    }
   },
   "outputs": [],
   "source": [
    "#!import config/Settings.cs"
   ]
  },
  {
   "cell_type": "code",
   "execution_count": 85,
   "metadata": {
    "dotnet_interactive": {
     "language": "csharp"
    },
    "polyglot_notebook": {
     "kernelName": "csharp"
    },
    "vscode": {
     "languageId": "polyglot-notebook"
    }
   },
   "outputs": [
    {
     "data": {
      "text/html": [
       "<div><div></div><div></div><div><strong>Installed Packages</strong><ul><li><span>Microsoft.SemanticKernel, 1.0.0-beta8</span></li></ul></div></div>"
      ]
     },
     "metadata": {},
     "output_type": "display_data"
    }
   ],
   "source": [
    "// Import Semantic Kernel\n",
    "#r \"nuget: Microsoft.SemanticKernel, 1.0.0-beta8\""
   ]
  },
  {
   "cell_type": "code",
   "execution_count": 86,
   "metadata": {
    "dotnet_interactive": {
     "language": "csharp"
    },
    "polyglot_notebook": {
     "kernelName": "csharp"
    },
    "vscode": {
     "languageId": "polyglot-notebook"
    }
   },
   "outputs": [],
   "source": [
    "using Microsoft.SemanticKernel;\n",
    "\n",
    "var builder = new KernelBuilder();"
   ]
  },
  {
   "cell_type": "code",
   "execution_count": 87,
   "metadata": {
    "dotnet_interactive": {
     "language": "csharp"
    },
    "polyglot_notebook": {
     "kernelName": "csharp"
    },
    "vscode": {
     "languageId": "polyglot-notebook"
    }
   },
   "outputs": [],
   "source": [
    "using Kernel = Microsoft.SemanticKernel.Kernel;\n",
    "\n",
    "var (model1, azureEndpoint1, apiKey1, gpt35TurboServiceId) = Settings.LoadFromFile(model: \"gpt-35-turbo\");\n",
    "builder.WithAzureOpenAIChatCompletionService(model1, azureEndpoint1, apiKey1, serviceId: gpt35TurboServiceId);\n",
    "\n",
    "var (model2, azureEndpoint2, apiKey2, gpt4ServiceId) = Settings.LoadFromFile(model: \"gpt-4-32k\");\n",
    "builder.WithAzureOpenAIChatCompletionService(model2, azureEndpoint2, apiKey2, serviceId: gpt4ServiceId);\n",
    "\n",
    "var kernel = builder.Build();"
   ]
  },
  {
   "cell_type": "markdown",
   "metadata": {},
   "source": [
    "# 1.2 🚀 Semantic Function for Short Intent Extraction\n",
    "* This section focuses on setting up the Semantic Function for extracting a concise user intent using a specific prompt."
   ]
  },
  {
   "cell_type": "code",
   "execution_count": 88,
   "metadata": {
    "dotnet_interactive": {
     "language": "csharp"
    },
    "polyglot_notebook": {
     "kernelName": "csharp"
    },
    "vscode": {
     "languageId": "polyglot-notebook"
    }
   },
   "outputs": [],
   "source": [
    "using Microsoft.SemanticKernel.TemplateEngine;\n",
    "using Microsoft.SemanticKernel.TemplateEngine.Basic;\n",
    "using Microsoft.SemanticKernel.Orchestration;\n",
    "using Microsoft.SemanticKernel.Connectors.AI.OpenAI;\n",
    "using Microsoft.SemanticKernel.AI;\n",
    "\n",
    "var aiRequestSettings = new AIRequestSettings \n",
    "{\n",
    "    ExtensionData = new Dictionary<string, object> { { \"api-version\", \"2023-03-15-preview\" } },\n",
    "    ServiceId = gpt35TurboServiceId\n",
    "};"
   ]
  },
  {
   "cell_type": "code",
   "execution_count": 89,
   "metadata": {
    "dotnet_interactive": {
     "language": "csharp"
    },
    "polyglot_notebook": {
     "kernelName": "csharp"
    },
    "vscode": {
     "languageId": "polyglot-notebook"
    }
   },
   "outputs": [],
   "source": [
    "var input = \"I want to find top-10 books about world history\";"
   ]
  },
  {
   "cell_type": "code",
   "execution_count": 90,
   "metadata": {
    "dotnet_interactive": {
     "language": "csharp"
    },
    "polyglot_notebook": {
     "kernelName": "csharp"
    },
    "vscode": {
     "languageId": "polyglot-notebook"
    }
   },
   "outputs": [
    {
     "name": "stdout",
     "output_type": "stream",
     "text": [
      "The user wants recommendations for the top 10 books about world history.\r\n"
     ]
    }
   ],
   "source": [
    "// Chat with the Bot\n",
    "// Create a simple prompt for the semantic function\n",
    "\n",
    "string skPrompt = @\"ChatBot: How can I help you?\n",
    "User: {{$input}}\n",
    "\n",
    "---------------------------------------------\n",
    "\n",
    "The intent of the user in 25 words or less: \";\n",
    "\n",
    "var getShortIntentFunction  = kernel.CreateSemanticFunction(skPrompt, \"fn\", \"pn\", requestSettings: aiRequestSettings);\n",
    "\n",
    "var intentResult = await kernel.RunAsync(input, getShortIntentFunction);\n",
    "\n",
    "Console.WriteLine(intentResult);"
   ]
  },
  {
   "cell_type": "markdown",
   "metadata": {},
   "source": [
    "# 1.3 🚀 Semantic Function for Conversational Chat\n",
    "\n",
    "* This section defines the Semantic Function for engaging in a more extended conversation with the chatbot, initializing the context, and executing the function."
   ]
  },
  {
   "cell_type": "code",
   "execution_count": 91,
   "metadata": {
    "dotnet_interactive": {
     "language": "csharp"
    },
    "polyglot_notebook": {
     "kernelName": "csharp"
    },
    "vscode": {
     "languageId": "polyglot-notebook"
    }
   },
   "outputs": [],
   "source": [
    "skPrompt = @\"\n",
    "ChatBot can have a conversation with you about any topic.\n",
    "It can give detailed answer or say 'I don't know' if it does not have an answer.\n",
    "\n",
    "{{$history}}\n",
    "User: {{$userInput}}\n",
    "ChatBot:\";"
   ]
  },
  {
   "cell_type": "code",
   "execution_count": 92,
   "metadata": {
    "dotnet_interactive": {
     "language": "csharp"
    },
    "polyglot_notebook": {
     "kernelName": "csharp"
    },
    "vscode": {
     "languageId": "polyglot-notebook"
    }
   },
   "outputs": [],
   "source": [
    "// Chat with the Bot\n",
    "\n",
    "var aiRequestSettings = new AIRequestSettings \n",
    "{\n",
    "    ExtensionData = new Dictionary<string, object> { { \"api-version\", \"2023-03-15-preview\" } },\n",
    "    ServiceId = gpt4ServiceId\n",
    "};\n",
    "\n",
    "var chatFunction = kernel.CreateSemanticFunction(skPrompt, \"fn\", \"pn\", requestSettings: aiRequestSettings);\n",
    "var context = kernel.CreateNewContext();\n",
    "\n",
    "var history = \"\";\n",
    "context.Variables[\"history\"] = history;\n",
    "\n",
    "var userInput = \"Hi, I'm looking for suggestions of best sellers about world history\";\n",
    "context.Variables[\"userInput\"] = userInput;\n",
    "\n",
    "var bot_answer = await chatFunction.InvokeAsync(context);"
   ]
  },
  {
   "cell_type": "code",
   "execution_count": 93,
   "metadata": {
    "dotnet_interactive": {
     "language": "csharp"
    },
    "polyglot_notebook": {
     "kernelName": "csharp"
    },
    "vscode": {
     "languageId": "polyglot-notebook"
    }
   },
   "outputs": [
    {
     "name": "stdout",
     "output_type": "stream",
     "text": [
      "\n",
      "User: Hi, I'm looking for suggestions of best sellers about world history\n",
      "Suggestions: Sure, here are some best-selling books about world history that you might find interesting:\n",
      "\n",
      "1. \"Sapiens: A Brief History of Humankind\" by Yuval Noah Harari\n",
      "2. \"Guns, Germs, and Steel: The Fates of Human Societies\" by Jared Diamond\n",
      "3. \"A People's History of the United States\" by Howard Zinn\n",
      "4. \"The Silk Roads: A New History of the World\" by Peter Frankopan\n",
      "5. \"The History of the World in Six Glasses\" by Tom Standage\n",
      "6. \"The World: A Brief Introduction\" by Richard Haass\n",
      "7. \"The Penguin History of the World\" by J.M. Roberts\n",
      "8. \"The Story of Civilization\" by Will Durant\n",
      "9. \"The Lessons of History\" by Will and Ariel Durant\n",
      "10. \"The Rise and Fall of the Great Powers\" by Paul Kennedy\n",
      "\n",
      "Remember to check the availability of these books in your local library or bookstore. Happy reading!\n",
      "\r\n"
     ]
    }
   ],
   "source": [
    "// Update the history with the output and set this as the new input value for the next request\n",
    "\n",
    "history += $\"\\nUser: {userInput}\\nSuggestions: {bot_answer.GetValue<string>()}\\n\";\n",
    "context.Variables.Update(history);\n",
    "\n",
    "Console.WriteLine(context);"
   ]
  },
  {
   "cell_type": "markdown",
   "metadata": {},
   "source": [
    "# 1.4 🚀 Interactive Chat Function\n",
    "\n",
    "* In this final section, an interactive chat function is defined, and several interactions with the chatbot are simulated. The complete chat history and the final user input are then printed. *"
   ]
  },
  {
   "cell_type": "code",
   "execution_count": 94,
   "metadata": {
    "dotnet_interactive": {
     "language": "csharp"
    },
    "polyglot_notebook": {
     "kernelName": "csharp"
    },
    "vscode": {
     "languageId": "polyglot-notebook"
    }
   },
   "outputs": [],
   "source": [
    "// Chatting more)\n",
    "\n",
    "Func<string, Task> Chat = async (string input) => {\n",
    "    // Save new message in the context variables\n",
    "    context.Variables[\"userInput\"] = input;\n",
    "\n",
    "    // Process the user message and get an answer\n",
    "    var answer = await chatFunction.InvokeAsync(context);\n",
    "\n",
    "    // Append the new interaction to the chat history\n",
    "    history += $\"\\nUser: {input}\\nSuggestions: {answer.GetValue<string>()}\\n\"; \n",
    "    context.Variables[\"history\"] = history;\n",
    "    \n",
    "    // Show the response\n",
    "    Console.WriteLine(context);\n",
    "};"
   ]
  },
  {
   "cell_type": "code",
   "execution_count": 95,
   "metadata": {
    "dotnet_interactive": {
     "language": "csharp"
    },
    "polyglot_notebook": {
     "kernelName": "csharp"
    },
    "vscode": {
     "languageId": "polyglot-notebook"
    }
   },
   "outputs": [
    {
     "name": "stdout",
     "output_type": "stream",
     "text": [
      "Sure, I would recommend \"The History of the Peloponnesian War\" by Thucydides. It's a classic work of ancient Greek history that provides a detailed account of the war between Athens and Sparta in the 5th century BC.\r\n"
     ]
    }
   ],
   "source": [
    "await Chat(\"I would like a non-fiction book suggestion about Greece history. Please only list one book.\");"
   ]
  },
  {
   "cell_type": "code",
   "execution_count": 96,
   "metadata": {
    "dotnet_interactive": {
     "language": "csharp"
    },
    "polyglot_notebook": {
     "kernelName": "csharp"
    },
    "vscode": {
     "languageId": "polyglot-notebook"
    }
   },
   "outputs": [
    {
     "name": "stdout",
     "output_type": "stream",
     "text": [
      "\"The History of the Peloponnesian War\" by Thucydides covers a wide range of topics related to the war between Athens and Sparta, which was a significant conflict in ancient Greece. Here are some of the topics you can expect to learn about:\n",
      "\n",
      "1. Political and military strategies: Thucydides provides detailed accounts of the strategies used by both sides in the war. He discusses the strengths and weaknesses of different approaches, and the impact of leadership decisions on the course of the war.\n",
      "\n",
      "2. Diplomacy and alliances: The book explores the complex network of alliances that characterized the Greek city-states during this period. It provides insight into the diplomatic maneuvers and negotiations that took place.\n",
      "\n",
      "3. Social and economic conditions: Thucydides also discusses the social and economic conditions in Athens and Sparta, and how these influenced the war. This includes the impact of the plague in Athens and the role of economic resources in the conflict.\n",
      "\n",
      "4. Human nature and ethics: Throughout the book, Thucydides reflects on human nature, ethics, and the moral dimensions of war. He offers philosophical insights that are still relevant today.\n",
      "\n",
      "5. Historical methodology: Thucydides is often considered the first historian to apply a rigorous methodology to the study of history. He emphasizes the importance of eyewitness accounts and evidence-based analysis.\n",
      "\n",
      "Remember, this is an ancient text and can be quite dense, but it's a fascinating look at a pivotal period in world history.\r\n"
     ]
    }
   ],
   "source": [
    "await Chat(\"that sounds interesting, what are some of the topics I will learn about?\");"
   ]
  },
  {
   "cell_type": "code",
   "execution_count": 97,
   "metadata": {
    "dotnet_interactive": {
     "language": "csharp"
    },
    "polyglot_notebook": {
     "kernelName": "csharp"
    },
    "vscode": {
     "languageId": "polyglot-notebook"
    }
   },
   "outputs": [
    {
     "name": "stdout",
     "output_type": "stream",
     "text": [
      "As an AI, I don't have personal opinions or the ability to gauge popularity. However, based on general interest, many readers find the political and military strategies discussed in \"The History of the Peloponnesian War\" particularly fascinating. This is because they provide a detailed look at the tactics and decisions that shaped a major conflict in ancient history. Additionally, Thucydides' reflections on human nature and ethics are often noted for their depth and relevance, even in the modern world.\r\n"
     ]
    }
   ],
   "source": [
    "await Chat(\"Which topic from the ones you listed do you think the most popular?\");"
   ]
  },
  {
   "cell_type": "code",
   "execution_count": 98,
   "metadata": {
    "dotnet_interactive": {
     "language": "csharp"
    },
    "polyglot_notebook": {
     "kernelName": "csharp"
    },
    "vscode": {
     "languageId": "polyglot-notebook"
    }
   },
   "outputs": [
    {
     "name": "stdout",
     "output_type": "stream",
     "text": [
      "\n",
      "User: Hi, I'm looking for suggestions of best sellers about world history\n",
      "Suggestions: Sure, here are some best-selling books about world history that you might find interesting:\n",
      "\n",
      "1. \"Sapiens: A Brief History of Humankind\" by Yuval Noah Harari\n",
      "2. \"Guns, Germs, and Steel: The Fates of Human Societies\" by Jared Diamond\n",
      "3. \"A People's History of the United States\" by Howard Zinn\n",
      "4. \"The Silk Roads: A New History of the World\" by Peter Frankopan\n",
      "5. \"The History of the World in Six Glasses\" by Tom Standage\n",
      "6. \"The World: A Brief Introduction\" by Richard Haass\n",
      "7. \"The Penguin History of the World\" by J.M. Roberts\n",
      "8. \"The Story of Civilization\" by Will Durant\n",
      "9. \"The Lessons of History\" by Will and Ariel Durant\n",
      "10. \"The Rise and Fall of the Great Powers\" by Paul Kennedy\n",
      "\n",
      "Remember to check the availability of these books in your local library or bookstore. Happy reading!\n",
      "\n",
      "User: I would like a non-fiction book suggestion about Greece history. Please only list one book.\n",
      "Suggestions: Sure, I would recommend \"The History of the Peloponnesian War\" by Thucydides. It's a classic work of ancient Greek history that provides a detailed account of the war between Athens and Sparta in the 5th century BC.\n",
      "\n",
      "User: that sounds interesting, what are some of the topics I will learn about?\n",
      "Suggestions: \"The History of the Peloponnesian War\" by Thucydides covers a wide range of topics related to the war between Athens and Sparta, which was a significant conflict in ancient Greece. Here are some of the topics you can expect to learn about:\n",
      "\n",
      "1. Political and military strategies: Thucydides provides detailed accounts of the strategies used by both sides in the war. He discusses the strengths and weaknesses of different approaches, and the impact of leadership decisions on the course of the war.\n",
      "\n",
      "2. Diplomacy and alliances: The book explores the complex network of alliances that characterized the Greek city-states during this period. It provides insight into the diplomatic maneuvers and negotiations that took place.\n",
      "\n",
      "3. Social and economic conditions: Thucydides also discusses the social and economic conditions in Athens and Sparta, and how these influenced the war. This includes the impact of the plague in Athens and the role of economic resources in the conflict.\n",
      "\n",
      "4. Human nature and ethics: Throughout the book, Thucydides reflects on human nature, ethics, and the moral dimensions of war. He offers philosophical insights that are still relevant today.\n",
      "\n",
      "5. Historical methodology: Thucydides is often considered the first historian to apply a rigorous methodology to the study of history. He emphasizes the importance of eyewitness accounts and evidence-based analysis.\n",
      "\n",
      "Remember, this is an ancient text and can be quite dense, but it's a fascinating look at a pivotal period in world history.\n",
      "\n",
      "User: Which topic from the ones you listed do you think the most popular?\n",
      "Suggestions: As an AI, I don't have personal opinions or the ability to gauge popularity. However, based on general interest, many readers find the political and military strategies discussed in \"The History of the Peloponnesian War\" particularly fascinating. This is because they provide a detailed look at the tactics and decisions that shaped a major conflict in ancient history. Additionally, Thucydides' reflections on human nature and ethics are often noted for their depth and relevance, even in the modern world.\n",
      "\r\n"
     ]
    }
   ],
   "source": [
    "Console.WriteLine(context.Variables[\"history\"]);"
   ]
  },
  {
   "cell_type": "code",
   "execution_count": 99,
   "metadata": {
    "dotnet_interactive": {
     "language": "csharp"
    },
    "polyglot_notebook": {
     "kernelName": "csharp"
    },
    "vscode": {
     "languageId": "polyglot-notebook"
    }
   },
   "outputs": [
    {
     "name": "stdout",
     "output_type": "stream",
     "text": [
      "Which topic from the ones you listed do you think the most popular?\r\n"
     ]
    }
   ],
   "source": [
    "Console.WriteLine(context.Variables[\"userInput\"]);"
   ]
  }
 ],
 "metadata": {
  "kernelspec": {
   "display_name": "Python 3",
   "language": "python",
   "name": "python3"
  },
  "language_info": {
   "codemirror_mode": {
    "name": "ipython",
    "version": 3
   },
   "file_extension": ".py",
   "mimetype": "text/x-python",
   "name": "python",
   "nbconvert_exporter": "python",
   "pygments_lexer": "ipython3",
   "version": "3.12.0"
  },
  "polyglot_notebook": {
   "kernelInfo": {
    "defaultKernelName": "csharp",
    "items": [
     {
      "aliases": [],
      "name": "csharp"
     }
    ]
   }
  }
 },
 "nbformat": 4,
 "nbformat_minor": 2
}
