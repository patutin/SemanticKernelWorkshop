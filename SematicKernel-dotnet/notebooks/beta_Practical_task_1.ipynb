{
 "cells": [
  {
   "cell_type": "markdown",
   "metadata": {},
   "source": [
    "# 1.1 🚀 Initialization and Configuration\n",
    "\n",
    "* In this section, necessary libraries are imported, and the Semantic Kernel is configured with Azure OpenAI credentials loaded from a configuration file."
   ]
  },
  {
   "cell_type": "code",
   "execution_count": 132,
   "metadata": {
    "dotnet_interactive": {
     "language": "csharp"
    },
    "polyglot_notebook": {
     "kernelName": "csharp"
    },
    "vscode": {
     "languageId": "polyglot-notebook"
    }
   },
   "outputs": [],
   "source": [
    "#!import config/Settings.cs"
   ]
  },
  {
   "cell_type": "code",
   "execution_count": 133,
   "metadata": {
    "dotnet_interactive": {
     "language": "csharp"
    },
    "polyglot_notebook": {
     "kernelName": "csharp"
    },
    "vscode": {
     "languageId": "polyglot-notebook"
    }
   },
   "outputs": [
    {
     "data": {
      "text/html": [
       "<div><div></div><div></div><div><strong>Installed Packages</strong><ul><li><span>Microsoft.SemanticKernel, 1.0.0-beta8</span></li></ul></div></div>"
      ]
     },
     "metadata": {},
     "output_type": "display_data"
    }
   ],
   "source": [
    "// Import Semantic Kernel\n",
    "#r \"nuget: Microsoft.SemanticKernel, 1.0.0-beta8\""
   ]
  },
  {
   "cell_type": "code",
   "execution_count": 134,
   "metadata": {
    "dotnet_interactive": {
     "language": "csharp"
    },
    "polyglot_notebook": {
     "kernelName": "csharp"
    },
    "vscode": {
     "languageId": "polyglot-notebook"
    }
   },
   "outputs": [],
   "source": [
    "using Microsoft.SemanticKernel;\n",
    "\n",
    "var builder = new KernelBuilder();"
   ]
  },
  {
   "cell_type": "code",
   "execution_count": 135,
   "metadata": {
    "dotnet_interactive": {
     "language": "csharp"
    },
    "polyglot_notebook": {
     "kernelName": "csharp"
    },
    "vscode": {
     "languageId": "polyglot-notebook"
    }
   },
   "outputs": [],
   "source": [
    "using Kernel = Microsoft.SemanticKernel.Kernel;\n",
    "\n",
    "var (model1, azureEndpoint1, apiKey1, gpt35TurboServiceId) = Settings.LoadFromFile(model: \"gpt-35-turbo\");\n",
    "builder.WithAzureOpenAIChatCompletionService(model1, azureEndpoint1, apiKey1, serviceId: gpt35TurboServiceId);\n",
    "\n",
    "var (model2, azureEndpoint2, apiKey2, gpt4ServiceId) = Settings.LoadFromFile(model: \"gpt-4-32k\");\n",
    "builder.WithAzureOpenAIChatCompletionService(model2, azureEndpoint2, apiKey2, serviceId: gpt4ServiceId);\n",
    "\n",
    "var kernel = builder.Build();"
   ]
  },
  {
   "cell_type": "markdown",
   "metadata": {},
   "source": [
    "# 1.2 🚀 Semantic Function for Short Intent Extraction\n",
    "* This section focuses on setting up the Semantic Function for extracting a concise user intent using a specific prompt."
   ]
  },
  {
   "cell_type": "code",
   "execution_count": 136,
   "metadata": {
    "dotnet_interactive": {
     "language": "csharp"
    },
    "polyglot_notebook": {
     "kernelName": "csharp"
    },
    "vscode": {
     "languageId": "polyglot-notebook"
    }
   },
   "outputs": [],
   "source": [
    "using Microsoft.SemanticKernel.TemplateEngine;\n",
    "using Microsoft.SemanticKernel.TemplateEngine.Basic;\n",
    "using Microsoft.SemanticKernel.Orchestration;\n",
    "using Microsoft.SemanticKernel.Connectors.AI.OpenAI;\n",
    "using Microsoft.SemanticKernel.AI;\n",
    "\n",
    "var aiRequestSettings = new AIRequestSettings \n",
    "{\n",
    "    ExtensionData = new Dictionary<string, object> { { \"api-version\", \"2023-03-15-preview\" } },\n",
    "    ServiceId = gpt35TurboServiceId\n",
    "};"
   ]
  },
  {
   "cell_type": "code",
   "execution_count": 137,
   "metadata": {
    "dotnet_interactive": {
     "language": "csharp"
    },
    "polyglot_notebook": {
     "kernelName": "csharp"
    },
    "vscode": {
     "languageId": "polyglot-notebook"
    }
   },
   "outputs": [],
   "source": [
    "var input = \"I want to find top-10 books about world history\";"
   ]
  },
  {
   "cell_type": "code",
   "execution_count": 138,
   "metadata": {
    "dotnet_interactive": {
     "language": "csharp"
    },
    "polyglot_notebook": {
     "kernelName": "csharp"
    },
    "vscode": {
     "languageId": "polyglot-notebook"
    }
   },
   "outputs": [
    {
     "name": "stdout",
     "output_type": "stream",
     "text": [
      "User wants recommendations for the top 10 books about world history.\r\n"
     ]
    }
   ],
   "source": [
    "// Chat with the Bot\n",
    "// Create a simple prompt for the semantic function\n",
    "\n",
    "string skPrompt = @\"ChatBot: How can I help you?\n",
    "User: {{$input}}\n",
    "\n",
    "---------------------------------------------\n",
    "\n",
    "The intent of the user in 25 words or less: \";\n",
    "\n",
    "var getShortIntentFunction = kernel.CreateSemanticFunction(skPrompt, requestSettings: aiRequestSettings);\n",
    "\n",
    "var intentResult = await kernel.RunAsync(input, getShortIntentFunction);\n",
    "\n",
    "Console.WriteLine(intentResult);"
   ]
  },
  {
   "cell_type": "markdown",
   "metadata": {},
   "source": [
    "# 1.3 🚀 Semantic Function for Conversational Chat\n",
    "\n",
    "* This section defines the Semantic Function for engaging in a more extended conversation with the chatbot, initializing the context, and executing the function."
   ]
  },
  {
   "cell_type": "code",
   "execution_count": 139,
   "metadata": {
    "dotnet_interactive": {
     "language": "csharp"
    },
    "polyglot_notebook": {
     "kernelName": "csharp"
    },
    "vscode": {
     "languageId": "polyglot-notebook"
    }
   },
   "outputs": [],
   "source": [
    "skPrompt = @\"\n",
    "ChatBot can have a conversation with you about any topic.\n",
    "It can give detailed answer or say 'I don't know' if it does not have an answer.\n",
    "\n",
    "{{$history}}\n",
    "User: {{$userInput}}\n",
    "ChatBot:\";"
   ]
  },
  {
   "cell_type": "code",
   "execution_count": 140,
   "metadata": {
    "dotnet_interactive": {
     "language": "csharp"
    },
    "polyglot_notebook": {
     "kernelName": "csharp"
    },
    "vscode": {
     "languageId": "polyglot-notebook"
    }
   },
   "outputs": [],
   "source": [
    "// Chat with the Bot\n",
    "\n",
    "var aiRequestSettings = new AIRequestSettings \n",
    "{\n",
    "    ExtensionData = new Dictionary<string, object> { { \"api-version\", \"2023-03-15-preview\" } },\n",
    "    ServiceId = gpt4ServiceId\n",
    "};\n",
    "\n",
    "var chatFunction = kernel.CreateSemanticFunction(skPrompt, \"fn\", \"pn\", requestSettings: aiRequestSettings);\n",
    "var context = kernel.CreateNewContext();\n",
    "\n",
    "var history = \"\";\n",
    "context.Variables[\"history\"] = history;\n",
    "\n",
    "var userInput = \"Hi, I'm looking for suggestions of best sellers about world history\";\n",
    "context.Variables[\"userInput\"] = userInput;\n",
    "\n",
    "var bot_answer = await chatFunction.InvokeAsync(context);"
   ]
  },
  {
   "cell_type": "code",
   "execution_count": 141,
   "metadata": {
    "dotnet_interactive": {
     "language": "csharp"
    },
    "polyglot_notebook": {
     "kernelName": "csharp"
    },
    "vscode": {
     "languageId": "polyglot-notebook"
    }
   },
   "outputs": [
    {
     "name": "stdout",
     "output_type": "stream",
     "text": [
      "\n",
      "User: Hi, I'm looking for suggestions of best sellers about world history\n",
      "Suggestions: Sure, here are some best-selling books about world history that you might find interesting:\n",
      "\n",
      "1. \"Sapiens: A Brief History of Humankind\" by Yuval Noah Harari\n",
      "2. \"Guns, Germs, and Steel: The Fates of Human Societies\" by Jared Diamond\n",
      "3. \"A People's History of the United States\" by Howard Zinn\n",
      "4. \"The Silk Roads: A New History of the World\" by Peter Frankopan\n",
      "5. \"The History of the World in Six Glasses\" by Tom Standage\n",
      "6. \"The World: A Brief Introduction\" by Richard Haass\n",
      "7. \"The Penguin History of the World\" by J.M. Roberts\n",
      "8. \"The Story of Civilization\" by Will Durant\n",
      "9. \"The Lessons of History\" by Will and Ariel Durant\n",
      "10. \"The Rise and Fall of the Great Powers\" by Paul Kennedy\n",
      "\n",
      "Remember to check the availability of these books in your local library or bookstore. Happy reading!\n",
      "\r\n"
     ]
    }
   ],
   "source": [
    "// Update the history with the output and set this as the new input value for the next request\n",
    "\n",
    "history += $\"\\nUser: {userInput}\\nSuggestions: {bot_answer.GetValue<string>()}\\n\";\n",
    "context.Variables.Update(history);\n",
    "\n",
    "Console.WriteLine(context);"
   ]
  },
  {
   "cell_type": "markdown",
   "metadata": {},
   "source": [
    "# 1.4 🚀 Interactive Chat Function\n",
    "\n",
    "* In this final section, an interactive chat function is defined, and several interactions with the chatbot are simulated. The complete chat history and the final user input are then printed. *"
   ]
  },
  {
   "cell_type": "code",
   "execution_count": 142,
   "metadata": {
    "dotnet_interactive": {
     "language": "csharp"
    },
    "polyglot_notebook": {
     "kernelName": "csharp"
    },
    "vscode": {
     "languageId": "polyglot-notebook"
    }
   },
   "outputs": [],
   "source": [
    "// Chatting more)\n",
    "\n",
    "Func<string, Task> Chat = async (string input) => {\n",
    "    // Save new message in the context variables\n",
    "    context.Variables[\"userInput\"] = input;\n",
    "\n",
    "    // Process the user message and get an answer\n",
    "    var answer = await chatFunction.InvokeAsync(context);\n",
    "\n",
    "    // Append the new interaction to the chat history\n",
    "    history += $\"\\nUser: {input}\\nSuggestions: {answer.GetValue<string>()}\\n\"; \n",
    "    context.Variables[\"history\"] = history;\n",
    "    \n",
    "    // Show the response\n",
    "    Console.WriteLine(context);\n",
    "};"
   ]
  },
  {
   "cell_type": "code",
   "execution_count": 143,
   "metadata": {
    "dotnet_interactive": {
     "language": "csharp"
    },
    "polyglot_notebook": {
     "kernelName": "csharp"
    },
    "vscode": {
     "languageId": "polyglot-notebook"
    }
   },
   "outputs": [
    {
     "name": "stdout",
     "output_type": "stream",
     "text": [
      "Sure, I would recommend \"The History of the Peloponnesian War\" by Thucydides. It's a classic work of ancient Greek history.\r\n"
     ]
    }
   ],
   "source": [
    "await Chat(\"I would like a non-fiction book suggestion about Greece history. Please only list one book.\");"
   ]
  },
  {
   "cell_type": "code",
   "execution_count": 144,
   "metadata": {
    "dotnet_interactive": {
     "language": "csharp"
    },
    "polyglot_notebook": {
     "kernelName": "csharp"
    },
    "vscode": {
     "languageId": "polyglot-notebook"
    }
   },
   "outputs": [
    {
     "name": "stdout",
     "output_type": "stream",
     "text": [
      "\"The History of the Peloponnesian War\" by Thucydides is a detailed historical account of the Peloponnesian War, which was fought between the city-states of Athens and Sparta, and their respective allies, in ancient Greece. Here are some of the topics you will learn about:\n",
      "\n",
      "1. The causes and origins of the Peloponnesian War.\n",
      "2. The strategies, tactics, and battles of the war.\n",
      "3. The political and social structures of Athens and Sparta.\n",
      "4. The impact of the war on the people of Athens and Sparta.\n",
      "5. The role of key figures and leaders during the war, such as Pericles and Alcibiades.\n",
      "6. The eventual defeat of Athens and the consequences of the war on ancient Greece.\n",
      "7. Thucydides' own analysis and interpretation of the events.\n",
      "\n",
      "It's worth noting that Thucydides' account is considered one of the earliest and most important works of history and political theory. It offers valuable insights into the nature of power, war, and human behavior.\r\n"
     ]
    }
   ],
   "source": [
    "await Chat(\"that sounds interesting, what are some of the topics I will learn about?\");"
   ]
  },
  {
   "cell_type": "code",
   "execution_count": 145,
   "metadata": {
    "dotnet_interactive": {
     "language": "csharp"
    },
    "polyglot_notebook": {
     "kernelName": "csharp"
    },
    "vscode": {
     "languageId": "polyglot-notebook"
    }
   },
   "outputs": [
    {
     "name": "stdout",
     "output_type": "stream",
     "text": [
      "The most popular topic among readers often tends to be the strategies, tactics, and battles of the war. Many readers find the detailed descriptions of military engagements, the strategies employed by both sides, and the tactical decisions made by leaders to be particularly fascinating. However, the popularity of a topic can vary greatly depending on the reader's personal interests. Some might be more interested in the political and social structures of Athens and Sparta, while others might be drawn to the personal stories and roles of key figures during the war.\r\n"
     ]
    }
   ],
   "source": [
    "await Chat(\"Which topic from the ones you listed do you think the most popular?\");"
   ]
  },
  {
   "cell_type": "code",
   "execution_count": 146,
   "metadata": {
    "dotnet_interactive": {
     "language": "csharp"
    },
    "polyglot_notebook": {
     "kernelName": "csharp"
    },
    "vscode": {
     "languageId": "polyglot-notebook"
    }
   },
   "outputs": [
    {
     "name": "stdout",
     "output_type": "stream",
     "text": [
      "\n",
      "User: Hi, I'm looking for suggestions of best sellers about world history\n",
      "Suggestions: Sure, here are some best-selling books about world history that you might find interesting:\n",
      "\n",
      "1. \"Sapiens: A Brief History of Humankind\" by Yuval Noah Harari\n",
      "2. \"Guns, Germs, and Steel: The Fates of Human Societies\" by Jared Diamond\n",
      "3. \"A People's History of the United States\" by Howard Zinn\n",
      "4. \"The Silk Roads: A New History of the World\" by Peter Frankopan\n",
      "5. \"The History of the World in Six Glasses\" by Tom Standage\n",
      "6. \"The World: A Brief Introduction\" by Richard Haass\n",
      "7. \"The Penguin History of the World\" by J.M. Roberts\n",
      "8. \"The Story of Civilization\" by Will Durant\n",
      "9. \"The Lessons of History\" by Will and Ariel Durant\n",
      "10. \"The Rise and Fall of the Great Powers\" by Paul Kennedy\n",
      "\n",
      "Remember to check the availability of these books in your local library or bookstore. Happy reading!\n",
      "\n",
      "User: I would like a non-fiction book suggestion about Greece history. Please only list one book.\n",
      "Suggestions: Sure, I would recommend \"The History of the Peloponnesian War\" by Thucydides. It's a classic work of ancient Greek history.\n",
      "\n",
      "User: that sounds interesting, what are some of the topics I will learn about?\n",
      "Suggestions: \"The History of the Peloponnesian War\" by Thucydides is a detailed historical account of the Peloponnesian War, which was fought between the city-states of Athens and Sparta, and their respective allies, in ancient Greece. Here are some of the topics you will learn about:\n",
      "\n",
      "1. The causes and origins of the Peloponnesian War.\n",
      "2. The strategies, tactics, and battles of the war.\n",
      "3. The political and social structures of Athens and Sparta.\n",
      "4. The impact of the war on the people of Athens and Sparta.\n",
      "5. The role of key figures and leaders during the war, such as Pericles and Alcibiades.\n",
      "6. The eventual defeat of Athens and the consequences of the war on ancient Greece.\n",
      "7. Thucydides' own analysis and interpretation of the events.\n",
      "\n",
      "It's worth noting that Thucydides' account is considered one of the earliest and most important works of history and political theory. It offers valuable insights into the nature of power, war, and human behavior.\n",
      "\n",
      "User: Which topic from the ones you listed do you think the most popular?\n",
      "Suggestions: The most popular topic among readers often tends to be the strategies, tactics, and battles of the war. Many readers find the detailed descriptions of military engagements, the strategies employed by both sides, and the tactical decisions made by leaders to be particularly fascinating. However, the popularity of a topic can vary greatly depending on the reader's personal interests. Some might be more interested in the political and social structures of Athens and Sparta, while others might be drawn to the personal stories and roles of key figures during the war.\n",
      "\r\n"
     ]
    }
   ],
   "source": [
    "Console.WriteLine(context.Variables[\"history\"]);"
   ]
  },
  {
   "cell_type": "code",
   "execution_count": 147,
   "metadata": {
    "dotnet_interactive": {
     "language": "csharp"
    },
    "polyglot_notebook": {
     "kernelName": "csharp"
    },
    "vscode": {
     "languageId": "polyglot-notebook"
    }
   },
   "outputs": [
    {
     "name": "stdout",
     "output_type": "stream",
     "text": [
      "Which topic from the ones you listed do you think the most popular?\r\n"
     ]
    }
   ],
   "source": [
    "Console.WriteLine(context.Variables[\"userInput\"]);"
   ]
  },
  {
   "cell_type": "markdown",
   "metadata": {},
   "source": [
    "# 1.5 🚀 Switching between models\n",
    "* Call HuggingFace model by name 1"
   ]
  },
  {
   "cell_type": "code",
   "execution_count": 152,
   "metadata": {
    "dotnet_interactive": {
     "language": "csharp"
    },
    "polyglot_notebook": {
     "kernelName": "csharp"
    },
    "vscode": {
     "languageId": "polyglot-notebook"
    }
   },
   "outputs": [
    {
     "data": {
      "text/html": [
       "<div><div></div><div></div><div><strong>Installed Packages</strong><ul><li><span>Microsoft.SemanticKernel.Connectors.AI.HuggingFace, 1.0.0-beta8</span></li></ul></div></div>"
      ]
     },
     "metadata": {},
     "output_type": "display_data"
    }
   ],
   "source": [
    "#r \"nuget: Microsoft.SemanticKernel.Connectors.AI.HuggingFace, 1.0.0-beta8\""
   ]
  },
  {
   "cell_type": "code",
   "execution_count": 169,
   "metadata": {
    "dotnet_interactive": {
     "language": "csharp"
    },
    "polyglot_notebook": {
     "kernelName": "csharp"
    },
    "vscode": {
     "languageId": "polyglot-notebook"
    }
   },
   "outputs": [
    {
     "ename": "Error",
     "evalue": "Microsoft.SemanticKernel.Diagnostics.HttpOperationException: Response status code does not indicate success: 400 (Bad Request).\r\n ---> System.Net.Http.HttpRequestException: Response status code does not indicate success: 400 (Bad Request).\r\n   at System.Net.Http.HttpResponseMessage.EnsureSuccessStatusCode()\r\n   at HttpClientExtensions.SendWithSuccessCheckAsync(HttpClient client, HttpRequestMessage request, HttpCompletionOption completionOption, CancellationToken cancellationToken)\r\n   --- End of inner exception stack trace ---\r\n   at HttpClientExtensions.SendWithSuccessCheckAsync(HttpClient client, HttpRequestMessage request, HttpCompletionOption completionOption, CancellationToken cancellationToken)\r\n   at HttpClientExtensions.SendWithSuccessCheckAsync(HttpClient client, HttpRequestMessage request, CancellationToken cancellationToken)\r\n   at Microsoft.SemanticKernel.Connectors.AI.HuggingFace.TextCompletion.HuggingFaceTextCompletion.ExecuteGetCompletionsAsync(String text, CancellationToken cancellationToken)\r\n   at Microsoft.SemanticKernel.Connectors.AI.HuggingFace.TextCompletion.HuggingFaceTextCompletion.GetCompletionsAsync(String text, AIRequestSettings requestSettings, CancellationToken cancellationToken)\r\n   at Microsoft.SemanticKernel.SemanticFunction.RunPromptAsync(AIRequestSettings requestSettings, SKContext context, CancellationToken cancellationToken)\r\n   at Microsoft.SemanticKernel.SemanticFunction.InvokeAsync(SKContext context, AIRequestSettings requestSettings, CancellationToken cancellationToken)\r\n   at Microsoft.SemanticKernel.Kernel.RunAsync(ContextVariables variables, CancellationToken cancellationToken, ISKFunction[] pipeline)\r\n   at Submission#159.<<Initialize>>d__0.MoveNext()\r\n--- End of stack trace from previous location ---\r\n   at Microsoft.CodeAnalysis.Scripting.ScriptExecutionState.RunSubmissionsAsync[TResult](ImmutableArray`1 precedingExecutors, Func`2 currentExecutor, StrongBox`1 exceptionHolderOpt, Func`2 catchExceptionOpt, CancellationToken cancellationToken)",
     "output_type": "error",
     "traceback": [
      "Microsoft.SemanticKernel.Diagnostics.HttpOperationException: Response status code does not indicate success: 400 (Bad Request).\r\n",
      " ---> System.Net.Http.HttpRequestException: Response status code does not indicate success: 400 (Bad Request).\r\n",
      "   at System.Net.Http.HttpResponseMessage.EnsureSuccessStatusCode()\r\n",
      "   at HttpClientExtensions.SendWithSuccessCheckAsync(HttpClient client, HttpRequestMessage request, HttpCompletionOption completionOption, CancellationToken cancellationToken)\r\n",
      "   --- End of inner exception stack trace ---\r\n",
      "   at HttpClientExtensions.SendWithSuccessCheckAsync(HttpClient client, HttpRequestMessage request, HttpCompletionOption completionOption, CancellationToken cancellationToken)\r\n",
      "   at HttpClientExtensions.SendWithSuccessCheckAsync(HttpClient client, HttpRequestMessage request, CancellationToken cancellationToken)\r\n",
      "   at Microsoft.SemanticKernel.Connectors.AI.HuggingFace.TextCompletion.HuggingFaceTextCompletion.ExecuteGetCompletionsAsync(String text, CancellationToken cancellationToken)\r\n",
      "   at Microsoft.SemanticKernel.Connectors.AI.HuggingFace.TextCompletion.HuggingFaceTextCompletion.GetCompletionsAsync(String text, AIRequestSettings requestSettings, CancellationToken cancellationToken)\r\n",
      "   at Microsoft.SemanticKernel.SemanticFunction.RunPromptAsync(AIRequestSettings requestSettings, SKContext context, CancellationToken cancellationToken)\r\n",
      "   at Microsoft.SemanticKernel.SemanticFunction.InvokeAsync(SKContext context, AIRequestSettings requestSettings, CancellationToken cancellationToken)\r\n",
      "   at Microsoft.SemanticKernel.Kernel.RunAsync(ContextVariables variables, CancellationToken cancellationToken, ISKFunction[] pipeline)\r\n",
      "   at Submission#159.<<Initialize>>d__0.MoveNext()\r\n",
      "--- End of stack trace from previous location ---\r\n",
      "   at Microsoft.CodeAnalysis.Scripting.ScriptExecutionState.RunSubmissionsAsync[TResult](ImmutableArray`1 precedingExecutors, Func`2 currentExecutor, StrongBox`1 exceptionHolderOpt, Func`2 catchExceptionOpt, CancellationToken cancellationToken)"
     ]
    }
   ],
   "source": [
    "using Kernel = Microsoft.SemanticKernel.Kernel;\n",
    "\n",
    "var (hfModel, hfEndpoint, hfApiKey, huggingFaceServiceId) = Settings.LoadFromFile(model: \"meta-llama/Llama-2-7b-hf\");\n",
    "\n",
    "#pragma warning disable SKEXP0020\n",
    "builder.WithHuggingFaceTextCompletionService(hfModel, apiKey: hfApiKey);\n",
    "\n",
    "var kernel = builder.Build();\n",
    "\n",
    "string skPrompt = @\"What drives climate change and its impact on the environment?\";\n",
    "\n",
    "var hfFunction = kernel.CreateSemanticFunction(skPrompt);\n",
    "var hfResult= await kernel.RunAsync(input, hfFunction);\n",
    "\n",
    "Console.WriteLine(hfResult.GetValue<string>());"
   ]
  }
 ],
 "metadata": {
  "kernelspec": {
   "display_name": ".NET (C#)",
   "language": "C#",
   "name": ".net-csharp"
  },
  "language_info": {
   "codemirror_mode": {
    "name": "ipython",
    "version": 3
   },
   "file_extension": ".py",
   "mimetype": "text/x-python",
   "name": "python",
   "nbconvert_exporter": "python",
   "pygments_lexer": "ipython3",
   "version": "3.12.0"
  },
  "polyglot_notebook": {
   "kernelInfo": {
    "defaultKernelName": "csharp",
    "items": [
     {
      "aliases": [],
      "name": "csharp"
     }
    ]
   }
  }
 },
 "nbformat": 4,
 "nbformat_minor": 2
}
